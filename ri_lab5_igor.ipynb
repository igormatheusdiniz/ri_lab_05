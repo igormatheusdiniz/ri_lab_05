{
  "nbformat": 4,
  "nbformat_minor": 0,
  "metadata": {
    "colab": {
      "name": "ri-lab5-igor.ipynb",
      "version": "0.3.2",
      "provenance": [],
      "collapsed_sections": [],
      "toc_visible": true,
      "include_colab_link": true
    },
    "kernelspec": {
      "name": "python3",
      "display_name": "Python 3"
    }
  },
  "cells": [
    {
      "cell_type": "markdown",
      "metadata": {
        "id": "view-in-github",
        "colab_type": "text"
      },
      "source": [
        "<a href=\"https://colab.research.google.com/github/igormatheusdiniz/ri_lab_05/blob/master/ri_lab5_igor.ipynb\" target=\"_parent\"><img src=\"https://colab.research.google.com/assets/colab-badge.svg\" alt=\"Open In Colab\"/></a>"
      ]
    },
    {
      "cell_type": "code",
      "metadata": {
        "id": "mmKUEBAHLTnk",
        "colab_type": "code",
        "outputId": "30e95742-306a-4c36-dd13-7200673cb234",
        "colab": {
          "base_uri": "https://localhost:8080/",
          "height": 85
        }
      },
      "source": [
        "import matplotlib.pyplot as plt\n",
        "import numpy as np\n",
        "import pandas as pd\n",
        "import re\n",
        "import math\n",
        "import bisect\n",
        "import nltk\n",
        "nltk.download('rslp')\n",
        "nltk.download('stopwords')\n",
        "\n",
        "from nltk.corpus import stopwords\n",
        "from nltk.tokenize import RegexpTokenizer\n",
        "from nltk.tokenize import word_tokenize\n",
        "from collections import Counter\n",
        "from nltk.stem import PorterStemmer\n",
        "from nltk.tokenize import sent_tokenize, word_tokenize\n"
      ],
      "execution_count": 1797,
      "outputs": [
        {
          "output_type": "stream",
          "text": [
            "[nltk_data] Downloading package rslp to /root/nltk_data...\n",
            "[nltk_data]   Package rslp is already up-to-date!\n",
            "[nltk_data] Downloading package stopwords to /root/nltk_data...\n",
            "[nltk_data]   Package stopwords is already up-to-date!\n"
          ],
          "name": "stdout"
        }
      ]
    },
    {
      "cell_type": "code",
      "metadata": {
        "id": "QA7XfdsdvC-r",
        "colab_type": "code",
        "colab": {}
      },
      "source": [
        "url = 'https://raw.githubusercontent.com/Benardi/ri_lab_01/master/output/results.csv'"
      ],
      "execution_count": 0,
      "outputs": []
    },
    {
      "cell_type": "markdown",
      "metadata": {
        "id": "zsskq1OMvCYH",
        "colab_type": "text"
      },
      "source": [
        "Utilizei a base de dados de Benardi, e por motivos de não precisar importar o .csv toda vez ao inicializar o colab, defini a url em meu lab."
      ]
    },
    {
      "cell_type": "markdown",
      "metadata": {
        "id": "BCjxEMV4t_9w",
        "colab_type": "text"
      },
      "source": [
        "# Tratamento dos dados"
      ]
    },
    {
      "cell_type": "code",
      "metadata": {
        "id": "B5ZJ7alqihe0",
        "colab_type": "code",
        "colab": {}
      },
      "source": [
        "dataframe = pd.read_csv(url)\n",
        "dataframe['treatedText'] = dataframe.text.apply(lambda x: re.sub('[^0-9A-ZÀ-Úa-zà-ú\\']', ' ', x.lower()))"
      ],
      "execution_count": 0,
      "outputs": []
    },
    {
      "cell_type": "markdown",
      "metadata": {
        "id": "oaQxdvb3x7Ge",
        "colab_type": "text"
      },
      "source": [
        "Diferente do lab anterior onde para obter os tokens, não utilizei o método tokenize do ntlk, para atender as especificações do lab atual, atualizei a forma que recupero os tokens do meu texto."
      ]
    },
    {
      "cell_type": "code",
      "metadata": {
        "id": "iRjynap9fj1T",
        "colab_type": "code",
        "colab": {}
      },
      "source": [
        "regex = RegexpTokenizer(r'[A-zÀ-ú-]+')\n",
        "stopWords = set(stopwords.words('portuguese'))"
      ],
      "execution_count": 0,
      "outputs": []
    },
    {
      "cell_type": "markdown",
      "metadata": {
        "id": "y2nGaC3xC8HO",
        "colab_type": "text"
      },
      "source": [
        "# Algoritimos necessários para este lab"
      ]
    },
    {
      "cell_type": "markdown",
      "metadata": {
        "id": "5r-Q7z2OVaZ0",
        "colab_type": "text"
      },
      "source": [
        "## Algoritimo de construção de índice Invertido"
      ]
    },
    {
      "cell_type": "code",
      "metadata": {
        "id": "5YORO0XC5du5",
        "colab_type": "code",
        "colab": {}
      },
      "source": [
        "\n",
        "\n",
        "def invertedIndex(documents):\n",
        "  I = {}\n",
        "  index = 0\n",
        "  \n",
        "  ##Para cada documento na minha relação de documentos irei realizar o processo de tokenização\n",
        "  for document in documents.treatedText:\n",
        "    index += 1\n",
        "    T = [token for token in regex.tokenize(document)\n",
        "        if((len(token)>=3) and token not in stopWords and token[0] != \"[\" and token[-1]!=\"]\")]\n",
        "    \n",
        "    ##Por motivos didáticos, resolvi ordenar minha lista de tokens\n",
        "    T.sort()\n",
        "    \n",
        "    ## Pra cada token criado se ele ainda não existe na minha estrutura de armazenamento como uma chave, eu crio e em seguida adiciono\n",
        "    ##o indice do documento como valor para esta chave\n",
        "    ## Caso já exista, apenas adiciona o índice do documento para esta chave\n",
        "    for token in T:\n",
        "      if token not in I.keys():\n",
        "        I[token]=[]\n",
        "       \n",
        "      pair = []\n",
        "      ocurrence = T.count(token)\n",
        "     \n",
        "      pair.append(index)\n",
        "      pair.append(ocurrence)\n",
        "      if(pair not in I[token]):\n",
        "        I[token].append(pair)\n",
        "  ## Por motivos estéticos resolvi comentar esta linha para não ficar uma lista de print muito grande no gitHub, dificultando a visualização do documento como um todo      \n",
        "  ##print(I)\n",
        "  return I\n",
        "\n",
        "invertedIndex = invertedIndex(dataframe)"
      ],
      "execution_count": 0,
      "outputs": []
    },
    {
      "cell_type": "markdown",
      "metadata": {
        "id": "-j4_8zOgVm0r",
        "colab_type": "text"
      },
      "source": [
        "## Algoritimo Termo por vez"
      ]
    },
    {
      "cell_type": "code",
      "metadata": {
        "id": "VSn-iZY7PiA2",
        "colab_type": "code",
        "outputId": "a0e2b3f4-74e7-44f2-8d53-a4945de4d8ba",
        "colab": {
          "base_uri": "https://localhost:8080/",
          "height": 34
        }
      },
      "source": [
        "def termAtTimeRetrieval(terms, invertedIndex, k):\n",
        "  hashtable = {}\n",
        "  invertedLists =[]\n",
        "  R = []\n",
        "  \n",
        "  ##Para cada termo recebido, se este termo está contindo nas chaves do meu IndiceInvertido construído anteriormente\n",
        "  ##adicione na minha estrutura de listas invertidas \n",
        "  for term in terms.split():\n",
        "    if term in invertedIndex.keys():\n",
        "      invertedLists.append(invertedIndex[term])\n",
        "  \n",
        "  \n",
        "  ## DIferente do algoritimo documentoPorVez iremos ACUMULAR os scores para cada termo\n",
        "  ## Para isso analisamos, os valores de cada chave/termo em nossa estrutura\n",
        "  ## nosso value 0 será o \"índice\" do documento, enquanto que o value 1 a frequência\n",
        "  ## Se nosso documento ja existir na hashtable de retorno iremos apenas atualizar o score acumulando-o\n",
        "  ## Caso contrário iremos cria-ló em nossa hashtable e atribuir um score = frequencia para ele.\n",
        "  \n",
        "  for invertedList in invertedLists:\n",
        "    for value in invertedList:\n",
        "      d = value[0]\n",
        "      f = value[1]\n",
        "      if d in hashtable.keys():\n",
        "        hashtable[d] = hashtable[d] + f\n",
        "      else:  \n",
        "        hashtable[d] = f\n",
        "  \n",
        "  R = list(map(lambda elem: (elem[1],elem[0]), hashtable.items()))\n",
        "  \n",
        "  ##Ordenando nossa estrutura de resposta, e selecionando os k-ésimos elementos\n",
        "  R.sort(reverse=True) \n",
        "  result = R[0:k]\n",
        "  \n",
        "  return result\n",
        "\n",
        "resultado = documentAtTimeRetrieval('juíza federal', invertedIndex, 5, dataframe)\n",
        "\n",
        "print(resultado)"
      ],
      "execution_count": 1802,
      "outputs": [
        {
          "output_type": "stream",
          "text": [
            "[(5, 151), (4, 173), (4, 1), (3, 248), (3, 229)]\n"
          ],
          "name": "stdout"
        }
      ]
    },
    {
      "cell_type": "code",
      "metadata": {
        "id": "WLurKddMq8MC",
        "colab_type": "code",
        "colab": {}
      },
      "source": [
        "## Definindo 5 consultas de um termo, para testarmos ambos algoritimos\n",
        "consultas = ['escola','bolsonaro', 'lula', 'universidades', 'infantil']"
      ],
      "execution_count": 0,
      "outputs": []
    },
    {
      "cell_type": "markdown",
      "metadata": {
        "id": "Xe3hgAfwNxb0",
        "colab_type": "text"
      },
      "source": [
        "# Questão 1"
      ]
    },
    {
      "cell_type": "code",
      "metadata": {
        "id": "EVa9TUIhmG9u",
        "colab_type": "code",
        "colab": {}
      },
      "source": [
        "documents = dataframe.treatedText.count()"
      ],
      "execution_count": 0,
      "outputs": []
    },
    {
      "cell_type": "code",
      "metadata": {
        "id": "AhoXC2bbNzni",
        "colab_type": "code",
        "outputId": "d42dbaaa-b4db-4cbc-db2a-7428604be859",
        "colab": {
          "base_uri": "https://localhost:8080/",
          "height": 187
        }
      },
      "source": [
        "def dices_coef(term, invertedIndex):\n",
        "  rank = []\n",
        "  result = []\n",
        "  score = 0\n",
        "  na = len(set(map(lambda x: x[0], invertedIndex[term])))\n",
        "  nb = 0\n",
        "  nab = 0\n",
        "  for index in invertedIndex:\n",
        "    if(index != term):\n",
        "      set_aux = set(map(lambda x: x[0], invertedIndex[term])) & set(map(lambda x: x[0], invertedIndex[index]))\n",
        "      nab = len(set_aux)\n",
        "   \n",
        "      set_aux2 = set(map(lambda x: x[0], invertedIndex[index]))\n",
        "      nb = len(set_aux2)\n",
        "    \n",
        "      score = (nab/(na+nb))\n",
        "                   \n",
        "      rank.append((score, index))\n",
        "    \n",
        "  rank.sort(reverse=True) \n",
        "  for i in range(10):\n",
        "    result.append(rank[i][1])\n",
        "  #result = rank[0:10]\n",
        "  \n",
        "  return result\n",
        "\n",
        "teste = dices_coef(\"jair\", invertedIndex)\n",
        "teste\n",
        "\n",
        "  "
      ],
      "execution_count": 1805,
      "outputs": [
        {
          "output_type": "execute_result",
          "data": {
            "text/plain": [
              "['bolsonaro',\n",
              " 'existia',\n",
              " 'vinha',\n",
              " 'inclusive',\n",
              " 'acabaram',\n",
              " 'precisam',\n",
              " 'explícito',\n",
              " 'ordem',\n",
              " 'militar',\n",
              " 'tensão']"
            ]
          },
          "metadata": {
            "tags": []
          },
          "execution_count": 1805
        }
      ]
    },
    {
      "cell_type": "code",
      "metadata": {
        "id": "rSp04vKJazXK",
        "colab_type": "code",
        "outputId": "6e9feef7-474a-46da-e729-14e4cac67239",
        "colab": {
          "base_uri": "https://localhost:8080/",
          "height": 187
        }
      },
      "source": [
        "def mutual_info(term, invertedIndex):\n",
        "  rank = []\n",
        "  result =[]\n",
        "  score = 0\n",
        "  na = len(set(map(lambda x: x[0], invertedIndex[term])))\n",
        "  nb = 0\n",
        "  nab = 0\n",
        "  for index in invertedIndex:\n",
        "    if(index != term):\n",
        "      set_aux = set(map(lambda x: x[0], invertedIndex[term])) & set(map(lambda x: x[0], invertedIndex[index]))\n",
        "      nab = len(set_aux)\n",
        "   \n",
        "      set_aux2 = set(map(lambda x: x[0], invertedIndex[index]))\n",
        "      nb = len(set_aux2)\n",
        "    \n",
        "      score = (nab/(na*nb))\n",
        "                   \n",
        "      rank.append((score, index))\n",
        "    \n",
        "  rank.sort(reverse=True) \n",
        "  for i in range(10):\n",
        "    result.append(rank[i][1])\n",
        "  #result = rank[0:10]\n",
        "    \n",
        "  return result\n",
        "\n",
        "teste = mutual_info(\"jair\", invertedIndex)\n",
        "teste"
      ],
      "execution_count": 1806,
      "outputs": [
        {
          "output_type": "execute_result",
          "data": {
            "text/plain": [
              "['óbvias',\n",
              " 'ético',\n",
              " 'ângulos',\n",
              " 'ângelo',\n",
              " 'àquelas',\n",
              " 'zelenskiy',\n",
              " 'yuriy',\n",
              " 'yulia',\n",
              " 'yanukovich',\n",
              " 'xenófobos']"
            ]
          },
          "metadata": {
            "tags": []
          },
          "execution_count": 1806
        }
      ]
    },
    {
      "cell_type": "code",
      "metadata": {
        "id": "UdINm0rEc6FJ",
        "colab_type": "code",
        "outputId": "a01b8fa9-4b92-4b23-ac54-3021aa3d9ffa",
        "colab": {
          "base_uri": "https://localhost:8080/",
          "height": 187
        }
      },
      "source": [
        "def chi_square(term, invertedIndex, documents):\n",
        "  rank = []\n",
        "  result = []\n",
        "  score = 0\n",
        "  na = len(set(map(lambda x: x[0], invertedIndex[term])))\n",
        "  nb = 0\n",
        "  nab = 0\n",
        "  for index in invertedIndex:\n",
        "    if(index != term):\n",
        "      set_aux = set(map(lambda x: x[0], invertedIndex[term])) & set(map(lambda x: x[0], invertedIndex[index]))\n",
        "      nab = len(set_aux)\n",
        "   \n",
        "      set_aux2 = set(map(lambda x: x[0], invertedIndex[index]))\n",
        "      nb = len(set_aux2)\n",
        "    \n",
        "      score = ((nab - (1/documents) * na * nb)**2 /(na*nb))\n",
        "                   \n",
        "      rank.append((score, index))\n",
        "    \n",
        "  rank.sort(reverse=True) \n",
        "  for i in range(10):\n",
        "    result.append(rank[i][1])\n",
        "  #result = rank[0:10]\n",
        "    \n",
        "  return result\n",
        "\n",
        "teste = chi_square(\"jair\", invertedIndex, documents)\n",
        "teste"
      ],
      "execution_count": 1807,
      "outputs": [
        {
          "output_type": "execute_result",
          "data": {
            "text/plain": [
              "['bolsonaro',\n",
              " 'explícito',\n",
              " 'identificou',\n",
              " 'gestor',\n",
              " 'existia',\n",
              " 'gomes',\n",
              " 'ustra',\n",
              " 'torturados',\n",
              " 'raízes',\n",
              " 'queiroz']"
            ]
          },
          "metadata": {
            "tags": []
          },
          "execution_count": 1807
        }
      ]
    },
    {
      "cell_type": "code",
      "metadata": {
        "id": "VfBx9bVOd8zI",
        "colab_type": "code",
        "outputId": "a4d3a778-bb22-4366-d8d1-ffac192cd030",
        "colab": {
          "base_uri": "https://localhost:8080/",
          "height": 187
        }
      },
      "source": [
        "def expected_Mutual_Information(term, invertedIndex, documents):\n",
        "  rank = []\n",
        "  result = []\n",
        "  score = 0\n",
        "  na = len(set(map(lambda x: x[0], invertedIndex[term])))\n",
        "  nb = 0\n",
        "  nab = 0\n",
        "  for index in invertedIndex:\n",
        "    if(index != term):\n",
        "      set_aux = set(map(lambda x: x[0], invertedIndex[term])) & set(map(lambda x: x[0], invertedIndex[index]))\n",
        "      nab = len(set_aux)\n",
        "   \n",
        "      set_aux2 = set(map(lambda x: x[0], invertedIndex[index]))\n",
        "      nb = len(set_aux2)\n",
        "      \n",
        "      if(nab != 0 and na != 0 and nb != 0 and documents!=0):\n",
        "        score = nab * math.log(documents*(nab/(na*nb)))\n",
        "                   \n",
        "      rank.append((score, index))\n",
        "    \n",
        "  rank.sort(reverse=True)\n",
        "  for i in range(10):\n",
        "    result.append(rank[i][1])\n",
        "  #result = rank[0:10]\n",
        "    \n",
        "  return result\n",
        "\n",
        "teste = expected_Mutual_Information(\"jair\", invertedIndex, documents)\n",
        "teste\n",
        "  "
      ],
      "execution_count": 1808,
      "outputs": [
        {
          "output_type": "execute_result",
          "data": {
            "text/plain": [
              "['bolsonaro',\n",
              " 'indígena',\n",
              " 'incômodo',\n",
              " 'inclusive',\n",
              " 'militar',\n",
              " 'pública',\n",
              " 'brasileira',\n",
              " 'brasileiro',\n",
              " 'existia',\n",
              " 'militares']"
            ]
          },
          "metadata": {
            "tags": []
          },
          "execution_count": 1808
        }
      ]
    },
    {
      "cell_type": "markdown",
      "metadata": {
        "id": "-11eWvTThlIn",
        "colab_type": "text"
      },
      "source": [
        "##Criando as tabelas pra cada consulta\n"
      ]
    },
    {
      "cell_type": "code",
      "metadata": {
        "id": "zoOYFLv_rjYs",
        "colab_type": "code",
        "colab": {}
      },
      "source": [
        "#consultas = ['escola','bolsonaro', 'lula', 'universidades', 'infantil']\n",
        "documents = dataframe.treatedText.count() "
      ],
      "execution_count": 0,
      "outputs": []
    },
    {
      "cell_type": "markdown",
      "metadata": {
        "id": "xAXQsNiDrNKv",
        "colab_type": "text"
      },
      "source": [
        "### Palavra: escola"
      ]
    },
    {
      "cell_type": "code",
      "metadata": {
        "id": "VhsokGfUh03t",
        "colab_type": "code",
        "outputId": "9225b0dd-0fee-45f0-e30f-349c582ca03d",
        "colab": {
          "base_uri": "https://localhost:8080/",
          "height": 359
        }
      },
      "source": [
        "MIM1 = []\n",
        "EMIM1 = []\n",
        "X21 = []\n",
        "DICE1 = []\n",
        "\n",
        "\n",
        "table1 = pd.DataFrame()\n",
        "pd.options.display.max_colwidth = 160\n",
        "  \n",
        "MIM1 = mutual_info(\"escola\",invertedIndex)\n",
        "EMIM1 = expected_Mutual_Information(\"escola\", invertedIndex, documents)\n",
        "X21 = chi_square(\"escola\", invertedIndex, documents)\n",
        "DICE1 = dices_coef(\"escola\", invertedIndex)\n",
        "\n",
        "table1['MIM'] = MIM1\n",
        "table1['EMIM'] = EMIM1\n",
        "table1['X2'] = X21\n",
        "table1['DICE'] = DICE1\n",
        "  \n",
        "table1\n",
        "  \n",
        "  "
      ],
      "execution_count": 1810,
      "outputs": [
        {
          "output_type": "execute_result",
          "data": {
            "text/html": [
              "<div>\n",
              "<style scoped>\n",
              "    .dataframe tbody tr th:only-of-type {\n",
              "        vertical-align: middle;\n",
              "    }\n",
              "\n",
              "    .dataframe tbody tr th {\n",
              "        vertical-align: top;\n",
              "    }\n",
              "\n",
              "    .dataframe thead th {\n",
              "        text-align: right;\n",
              "    }\n",
              "</style>\n",
              "<table border=\"1\" class=\"dataframe\">\n",
              "  <thead>\n",
              "    <tr style=\"text-align: right;\">\n",
              "      <th></th>\n",
              "      <th>MIM</th>\n",
              "      <th>EMIM</th>\n",
              "      <th>X2</th>\n",
              "      <th>DICE</th>\n",
              "    </tr>\n",
              "  </thead>\n",
              "  <tbody>\n",
              "    <tr>\n",
              "      <th>0</th>\n",
              "      <td>óbvias</td>\n",
              "      <td>universidade</td>\n",
              "      <td>professores</td>\n",
              "      <td>querem</td>\n",
              "    </tr>\n",
              "    <tr>\n",
              "      <th>1</th>\n",
              "      <td>íntegra</td>\n",
              "      <td>jovens</td>\n",
              "      <td>escolar</td>\n",
              "      <td>universidade</td>\n",
              "    </tr>\n",
              "    <tr>\n",
              "      <th>2</th>\n",
              "      <td>índios</td>\n",
              "      <td>querem</td>\n",
              "      <td>converter</td>\n",
              "      <td>jovens</td>\n",
              "    </tr>\n",
              "    <tr>\n",
              "      <th>3</th>\n",
              "      <td>étnicos</td>\n",
              "      <td>professor</td>\n",
              "      <td>araguaia</td>\n",
              "      <td>professor</td>\n",
              "    </tr>\n",
              "    <tr>\n",
              "      <th>4</th>\n",
              "      <td>étnico</td>\n",
              "      <td>criar</td>\n",
              "      <td>querem</td>\n",
              "      <td>criar</td>\n",
              "    </tr>\n",
              "    <tr>\n",
              "      <th>5</th>\n",
              "      <td>ético</td>\n",
              "      <td>enriquecer</td>\n",
              "      <td>superior</td>\n",
              "      <td>educação</td>\n",
              "    </tr>\n",
              "    <tr>\n",
              "      <th>6</th>\n",
              "      <td>épocas</td>\n",
              "      <td>embruteceu</td>\n",
              "      <td>professor</td>\n",
              "      <td>jovem</td>\n",
              "    </tr>\n",
              "    <tr>\n",
              "      <th>7</th>\n",
              "      <td>árbitros</td>\n",
              "      <td>educação</td>\n",
              "      <td>quadros</td>\n",
              "      <td>discurso</td>\n",
              "    </tr>\n",
              "    <tr>\n",
              "      <th>8</th>\n",
              "      <td>zuenir</td>\n",
              "      <td>professores</td>\n",
              "      <td>massacre</td>\n",
              "      <td>qualidade</td>\n",
              "    </tr>\n",
              "    <tr>\n",
              "      <th>9</th>\n",
              "      <td>zombava</td>\n",
              "      <td>cada</td>\n",
              "      <td>universidade</td>\n",
              "      <td>superior</td>\n",
              "    </tr>\n",
              "  </tbody>\n",
              "</table>\n",
              "</div>"
            ],
            "text/plain": [
              "        MIM          EMIM            X2          DICE\n",
              "0    óbvias  universidade   professores        querem\n",
              "1   íntegra        jovens       escolar  universidade\n",
              "2    índios        querem     converter        jovens\n",
              "3   étnicos     professor      araguaia     professor\n",
              "4    étnico         criar        querem         criar\n",
              "5     ético    enriquecer      superior      educação\n",
              "6    épocas    embruteceu     professor         jovem\n",
              "7  árbitros      educação       quadros      discurso\n",
              "8    zuenir   professores      massacre     qualidade\n",
              "9   zombava          cada  universidade      superior"
            ]
          },
          "metadata": {
            "tags": []
          },
          "execution_count": 1810
        }
      ]
    },
    {
      "cell_type": "markdown",
      "metadata": {
        "id": "COsugJaVuatY",
        "colab_type": "text"
      },
      "source": [
        "### Palavra: bolsonaro"
      ]
    },
    {
      "cell_type": "code",
      "metadata": {
        "id": "oz4xYNI-rXdX",
        "colab_type": "code",
        "outputId": "d577ca6d-03d5-46ff-bb87-b06201af659d",
        "colab": {
          "base_uri": "https://localhost:8080/",
          "height": 359
        }
      },
      "source": [
        "MIM2 = []\n",
        "EMIM2 = []\n",
        "X22 = []\n",
        "DICE2 = []\n",
        "\n",
        "\n",
        "table2 = pd.DataFrame()\n",
        "pd.options.display.max_colwidth = 160\n",
        "  \n",
        "MIM2 = mutual_info(\"bolsonaro\",invertedIndex)\n",
        "EMIM2 = expected_Mutual_Information(\"bolsonaro\", invertedIndex, documents)\n",
        "X22 = chi_square(\"bolsonaro\", invertedIndex, documents)\n",
        "DICE2 = dices_coef(\"bolsonaro\", invertedIndex)\n",
        "\n",
        "table2['MIM'] = MIM2\n",
        "table2['EMIM'] = EMIM2\n",
        "table2['X2'] = X22\n",
        "table2['DICE'] = DICE2\n",
        "  \n",
        "table2\n",
        "  "
      ],
      "execution_count": 1811,
      "outputs": [
        {
          "output_type": "execute_result",
          "data": {
            "text/html": [
              "<div>\n",
              "<style scoped>\n",
              "    .dataframe tbody tr th:only-of-type {\n",
              "        vertical-align: middle;\n",
              "    }\n",
              "\n",
              "    .dataframe tbody tr th {\n",
              "        vertical-align: top;\n",
              "    }\n",
              "\n",
              "    .dataframe thead th {\n",
              "        text-align: right;\n",
              "    }\n",
              "</style>\n",
              "<table border=\"1\" class=\"dataframe\">\n",
              "  <thead>\n",
              "    <tr style=\"text-align: right;\">\n",
              "      <th></th>\n",
              "      <th>MIM</th>\n",
              "      <th>EMIM</th>\n",
              "      <th>X2</th>\n",
              "      <th>DICE</th>\n",
              "    </tr>\n",
              "  </thead>\n",
              "  <tbody>\n",
              "    <tr>\n",
              "      <th>0</th>\n",
              "      <td>ótimas</td>\n",
              "      <td>presidente</td>\n",
              "      <td>jair</td>\n",
              "      <td>presidente</td>\n",
              "    </tr>\n",
              "    <tr>\n",
              "      <th>1</th>\n",
              "      <td>óbvios</td>\n",
              "      <td>brasil</td>\n",
              "      <td>psl</td>\n",
              "      <td>brasil</td>\n",
              "    </tr>\n",
              "    <tr>\n",
              "      <th>2</th>\n",
              "      <td>óbvias</td>\n",
              "      <td>governo</td>\n",
              "      <td>previdência</td>\n",
              "      <td>governo</td>\n",
              "    </tr>\n",
              "    <tr>\n",
              "      <th>3</th>\n",
              "      <td>índole</td>\n",
              "      <td>brasileiro</td>\n",
              "      <td>reforma</td>\n",
              "      <td>brasileiro</td>\n",
              "    </tr>\n",
              "    <tr>\n",
              "      <th>4</th>\n",
              "      <td>ético</td>\n",
              "      <td>ministro</td>\n",
              "      <td>planalto</td>\n",
              "      <td>ministro</td>\n",
              "    </tr>\n",
              "    <tr>\n",
              "      <th>5</th>\n",
              "      <td>ânus</td>\n",
              "      <td>reforma</td>\n",
              "      <td>brasileiro</td>\n",
              "      <td>político</td>\n",
              "    </tr>\n",
              "    <tr>\n",
              "      <th>6</th>\n",
              "      <td>ânimos</td>\n",
              "      <td>político</td>\n",
              "      <td>brasil</td>\n",
              "      <td>brasileira</td>\n",
              "    </tr>\n",
              "    <tr>\n",
              "      <th>7</th>\n",
              "      <td>ângulos</td>\n",
              "      <td>psl</td>\n",
              "      <td>deputado</td>\n",
              "      <td>ainda</td>\n",
              "    </tr>\n",
              "    <tr>\n",
              "      <th>8</th>\n",
              "      <td>ângelo</td>\n",
              "      <td>jair</td>\n",
              "      <td>presidente</td>\n",
              "      <td>paulo</td>\n",
              "    </tr>\n",
              "    <tr>\n",
              "      <th>9</th>\n",
              "      <td>ávidos</td>\n",
              "      <td>prima</td>\n",
              "      <td>guedes</td>\n",
              "      <td>federal</td>\n",
              "    </tr>\n",
              "  </tbody>\n",
              "</table>\n",
              "</div>"
            ],
            "text/plain": [
              "       MIM        EMIM           X2        DICE\n",
              "0   ótimas  presidente         jair  presidente\n",
              "1   óbvios      brasil          psl      brasil\n",
              "2   óbvias     governo  previdência     governo\n",
              "3   índole  brasileiro      reforma  brasileiro\n",
              "4    ético    ministro     planalto    ministro\n",
              "5     ânus     reforma   brasileiro    político\n",
              "6   ânimos    político       brasil  brasileira\n",
              "7  ângulos         psl     deputado       ainda\n",
              "8   ângelo        jair   presidente       paulo\n",
              "9   ávidos       prima       guedes     federal"
            ]
          },
          "metadata": {
            "tags": []
          },
          "execution_count": 1811
        }
      ]
    },
    {
      "cell_type": "markdown",
      "metadata": {
        "id": "aDkSb-4kudzq",
        "colab_type": "text"
      },
      "source": [
        "### Palavra: lula"
      ]
    },
    {
      "cell_type": "code",
      "metadata": {
        "id": "UkdkMDheuhAA",
        "colab_type": "code",
        "outputId": "778dca1b-fd5a-424a-f9b1-d11871da4a1a",
        "colab": {
          "base_uri": "https://localhost:8080/",
          "height": 359
        }
      },
      "source": [
        "MIM3 = []\n",
        "EMIM3 = []\n",
        "X23 = []\n",
        "DICE3 = []\n",
        "\n",
        "\n",
        "table3 = pd.DataFrame()\n",
        "pd.options.display.max_colwidth = 160\n",
        "  \n",
        "MIM3 = mutual_info(\"lula\",invertedIndex)\n",
        "EMIM3 = expected_Mutual_Information(\"lula\", invertedIndex, documents)\n",
        "X23 = chi_square(\"lula\", invertedIndex, documents)\n",
        "DICE3 = dices_coef(\"lula\", invertedIndex)\n",
        "\n",
        "table3['MIM'] = MIM3\n",
        "table3['EMIM'] = EMIM3\n",
        "table3['X2'] = X23\n",
        "table3['DICE'] = DICE3\n",
        "  \n",
        "table3\n",
        "  "
      ],
      "execution_count": 1812,
      "outputs": [
        {
          "output_type": "execute_result",
          "data": {
            "text/html": [
              "<div>\n",
              "<style scoped>\n",
              "    .dataframe tbody tr th:only-of-type {\n",
              "        vertical-align: middle;\n",
              "    }\n",
              "\n",
              "    .dataframe tbody tr th {\n",
              "        vertical-align: top;\n",
              "    }\n",
              "\n",
              "    .dataframe thead th {\n",
              "        text-align: right;\n",
              "    }\n",
              "</style>\n",
              "<table border=\"1\" class=\"dataframe\">\n",
              "  <thead>\n",
              "    <tr style=\"text-align: right;\">\n",
              "      <th></th>\n",
              "      <th>MIM</th>\n",
              "      <th>EMIM</th>\n",
              "      <th>X2</th>\n",
              "      <th>DICE</th>\n",
              "    </tr>\n",
              "  </thead>\n",
              "  <tbody>\n",
              "    <tr>\n",
              "      <th>0</th>\n",
              "      <td>ácidas</td>\n",
              "      <td>inácio</td>\n",
              "      <td>inácio</td>\n",
              "      <td>inácio</td>\n",
              "    </tr>\n",
              "    <tr>\n",
              "      <th>1</th>\n",
              "      <td>xavier</td>\n",
              "      <td>bolsonaro</td>\n",
              "      <td>péssimo</td>\n",
              "      <td>silva</td>\n",
              "    </tr>\n",
              "    <tr>\n",
              "      <th>2</th>\n",
              "      <td>vomitando</td>\n",
              "      <td>póstuma</td>\n",
              "      <td>psicanálise</td>\n",
              "      <td>michel</td>\n",
              "    </tr>\n",
              "    <tr>\n",
              "      <th>3</th>\n",
              "      <td>voltas</td>\n",
              "      <td>província</td>\n",
              "      <td>pareceram</td>\n",
              "      <td>entregar</td>\n",
              "    </tr>\n",
              "    <tr>\n",
              "      <th>4</th>\n",
              "      <td>vitoriosos</td>\n",
              "      <td>provas</td>\n",
              "      <td>minimiza</td>\n",
              "      <td>prisão</td>\n",
              "    </tr>\n",
              "    <tr>\n",
              "      <th>5</th>\n",
              "      <td>vitimizava</td>\n",
              "      <td>programação</td>\n",
              "      <td>interrogado</td>\n",
              "      <td>recado</td>\n",
              "    </tr>\n",
              "    <tr>\n",
              "      <th>6</th>\n",
              "      <td>vermelhas</td>\n",
              "      <td>programada</td>\n",
              "      <td>governabilidade</td>\n",
              "      <td>temer</td>\n",
              "    </tr>\n",
              "    <tr>\n",
              "      <th>7</th>\n",
              "      <td>vavá</td>\n",
              "      <td>prisão</td>\n",
              "      <td>eleitorado</td>\n",
              "      <td>psol</td>\n",
              "    </tr>\n",
              "    <tr>\n",
              "      <th>8</th>\n",
              "      <td>vaso</td>\n",
              "      <td>suspender</td>\n",
              "      <td>desidratação</td>\n",
              "      <td>negativa</td>\n",
              "    </tr>\n",
              "    <tr>\n",
              "      <th>9</th>\n",
              "      <td>vacina</td>\n",
              "      <td>supremo</td>\n",
              "      <td>derrotados</td>\n",
              "      <td>lava</td>\n",
              "    </tr>\n",
              "  </tbody>\n",
              "</table>\n",
              "</div>"
            ],
            "text/plain": [
              "          MIM         EMIM               X2      DICE\n",
              "0      ácidas       inácio           inácio    inácio\n",
              "1      xavier    bolsonaro          péssimo     silva\n",
              "2   vomitando      póstuma      psicanálise    michel\n",
              "3      voltas    província        pareceram  entregar\n",
              "4  vitoriosos       provas         minimiza    prisão\n",
              "5  vitimizava  programação      interrogado    recado\n",
              "6   vermelhas   programada  governabilidade     temer\n",
              "7        vavá       prisão       eleitorado      psol\n",
              "8        vaso    suspender     desidratação  negativa\n",
              "9      vacina      supremo       derrotados      lava"
            ]
          },
          "metadata": {
            "tags": []
          },
          "execution_count": 1812
        }
      ]
    },
    {
      "cell_type": "markdown",
      "metadata": {
        "id": "X-nGyvPbutKK",
        "colab_type": "text"
      },
      "source": [
        "### Palavra: universidades"
      ]
    },
    {
      "cell_type": "code",
      "metadata": {
        "id": "DwVtuu5puyt_",
        "colab_type": "code",
        "outputId": "9cf05e83-061e-4404-c1dc-3581bed6c949",
        "colab": {
          "base_uri": "https://localhost:8080/",
          "height": 359
        }
      },
      "source": [
        "MIM4 = []\n",
        "EMIM4 = []\n",
        "X24 = []\n",
        "DICE4 = []\n",
        "\n",
        "\n",
        "table4 = pd.DataFrame()\n",
        "pd.options.display.max_colwidth = 160\n",
        "  \n",
        "MIM4 = mutual_info(\"universidades\",invertedIndex)\n",
        "EMIM4 = expected_Mutual_Information(\"universidades\", invertedIndex, documents)\n",
        "X24 = chi_square(\"universidades\", invertedIndex, documents)\n",
        "DICE4 = dices_coef(\"universidades\", invertedIndex)\n",
        "\n",
        "table4['MIM'] = MIM4\n",
        "table4['EMIM'] = EMIM4\n",
        "table4['X2'] = X24\n",
        "table4['DICE'] = DICE4\n",
        "  \n",
        "table4"
      ],
      "execution_count": 1813,
      "outputs": [
        {
          "output_type": "execute_result",
          "data": {
            "text/html": [
              "<div>\n",
              "<style scoped>\n",
              "    .dataframe tbody tr th:only-of-type {\n",
              "        vertical-align: middle;\n",
              "    }\n",
              "\n",
              "    .dataframe tbody tr th {\n",
              "        vertical-align: top;\n",
              "    }\n",
              "\n",
              "    .dataframe thead th {\n",
              "        text-align: right;\n",
              "    }\n",
              "</style>\n",
              "<table border=\"1\" class=\"dataframe\">\n",
              "  <thead>\n",
              "    <tr style=\"text-align: right;\">\n",
              "      <th></th>\n",
              "      <th>MIM</th>\n",
              "      <th>EMIM</th>\n",
              "      <th>X2</th>\n",
              "      <th>DICE</th>\n",
              "    </tr>\n",
              "  </thead>\n",
              "  <tbody>\n",
              "    <tr>\n",
              "      <th>0</th>\n",
              "      <td>úlceras</td>\n",
              "      <td>precisa</td>\n",
              "      <td>concentrar</td>\n",
              "      <td>desastre</td>\n",
              "    </tr>\n",
              "    <tr>\n",
              "      <th>1</th>\n",
              "      <td>étnicos</td>\n",
              "      <td>desastre</td>\n",
              "      <td>harvard</td>\n",
              "      <td>harvard</td>\n",
              "    </tr>\n",
              "    <tr>\n",
              "      <th>2</th>\n",
              "      <td>árvore</td>\n",
              "      <td>problema</td>\n",
              "      <td>aulas</td>\n",
              "      <td>aulas</td>\n",
              "    </tr>\n",
              "    <tr>\n",
              "      <th>3</th>\n",
              "      <td>árbitros</td>\n",
              "      <td>harvard</td>\n",
              "      <td>desastre</td>\n",
              "      <td>concentrar</td>\n",
              "    </tr>\n",
              "    <tr>\n",
              "      <th>4</th>\n",
              "      <td>yfn</td>\n",
              "      <td>aulas</td>\n",
              "      <td>yale</td>\n",
              "      <td>estudantes</td>\n",
              "    </tr>\n",
              "    <tr>\n",
              "      <th>5</th>\n",
              "      <td>xingar</td>\n",
              "      <td>muitos</td>\n",
              "      <td>robert</td>\n",
              "      <td>ocorre</td>\n",
              "    </tr>\n",
              "    <tr>\n",
              "      <th>6</th>\n",
              "      <td>wynn</td>\n",
              "      <td>olavo</td>\n",
              "      <td>vividos</td>\n",
              "      <td>yale</td>\n",
              "    </tr>\n",
              "    <tr>\n",
              "      <th>7</th>\n",
              "      <td>witold</td>\n",
              "      <td>ocorre</td>\n",
              "      <td>universitária</td>\n",
              "      <td>robert</td>\n",
              "    </tr>\n",
              "    <tr>\n",
              "      <th>8</th>\n",
              "      <td>wilstermann</td>\n",
              "      <td>originalmente</td>\n",
              "      <td>tremendo</td>\n",
              "      <td>financiamento</td>\n",
              "    </tr>\n",
              "    <tr>\n",
              "      <th>9</th>\n",
              "      <td>what</td>\n",
              "      <td>olhava</td>\n",
              "      <td>tratada</td>\n",
              "      <td>precisa</td>\n",
              "    </tr>\n",
              "  </tbody>\n",
              "</table>\n",
              "</div>"
            ],
            "text/plain": [
              "           MIM           EMIM             X2           DICE\n",
              "0      úlceras        precisa     concentrar       desastre\n",
              "1      étnicos       desastre        harvard        harvard\n",
              "2       árvore       problema          aulas          aulas\n",
              "3     árbitros        harvard       desastre     concentrar\n",
              "4          yfn          aulas           yale     estudantes\n",
              "5       xingar         muitos         robert         ocorre\n",
              "6         wynn          olavo        vividos           yale\n",
              "7       witold         ocorre  universitária         robert\n",
              "8  wilstermann  originalmente       tremendo  financiamento\n",
              "9         what         olhava        tratada        precisa"
            ]
          },
          "metadata": {
            "tags": []
          },
          "execution_count": 1813
        }
      ]
    },
    {
      "cell_type": "markdown",
      "metadata": {
        "id": "w70sSKm0u87B",
        "colab_type": "text"
      },
      "source": [
        "### Palavra: Infantil"
      ]
    },
    {
      "cell_type": "code",
      "metadata": {
        "id": "sHnJBA35u_z_",
        "colab_type": "code",
        "outputId": "322560f2-bb1f-4e93-bc48-ed203db6df7d",
        "colab": {
          "base_uri": "https://localhost:8080/",
          "height": 359
        }
      },
      "source": [
        "MIM5 = []\n",
        "EMIM5 = []\n",
        "X25 = []\n",
        "DICE5 = []\n",
        "\n",
        "\n",
        "table5 = pd.DataFrame()\n",
        "pd.options.display.max_colwidth = 160\n",
        "  \n",
        "MIM5 = mutual_info(\"infantil\",invertedIndex)\n",
        "EMIM5 = expected_Mutual_Information(\"infantil\", invertedIndex, documents)\n",
        "X25 = chi_square(\"infantil\", invertedIndex, documents)\n",
        "DICE5 = dices_coef(\"infantil\", invertedIndex)\n",
        "\n",
        "table5['MIM'] = MIM5\n",
        "table5['EMIM'] = EMIM5\n",
        "table5['X2'] = X25\n",
        "table5['DICE'] = DICE5\n",
        "  \n",
        "table5"
      ],
      "execution_count": 1814,
      "outputs": [
        {
          "output_type": "execute_result",
          "data": {
            "text/html": [
              "<div>\n",
              "<style scoped>\n",
              "    .dataframe tbody tr th:only-of-type {\n",
              "        vertical-align: middle;\n",
              "    }\n",
              "\n",
              "    .dataframe tbody tr th {\n",
              "        vertical-align: top;\n",
              "    }\n",
              "\n",
              "    .dataframe thead th {\n",
              "        text-align: right;\n",
              "    }\n",
              "</style>\n",
              "<table border=\"1\" class=\"dataframe\">\n",
              "  <thead>\n",
              "    <tr style=\"text-align: right;\">\n",
              "      <th></th>\n",
              "      <th>MIM</th>\n",
              "      <th>EMIM</th>\n",
              "      <th>X2</th>\n",
              "      <th>DICE</th>\n",
              "    </tr>\n",
              "  </thead>\n",
              "  <tbody>\n",
              "    <tr>\n",
              "      <th>0</th>\n",
              "      <td>éticas</td>\n",
              "      <td>sexual</td>\n",
              "      <td>keaton</td>\n",
              "      <td>sexual</td>\n",
              "    </tr>\n",
              "    <tr>\n",
              "      <th>1</th>\n",
              "      <td>zumbido</td>\n",
              "      <td>crime</td>\n",
              "      <td>eva</td>\n",
              "      <td>keaton</td>\n",
              "    </tr>\n",
              "    <tr>\n",
              "      <th>2</th>\n",
              "      <td>youtuber</td>\n",
              "      <td>crianças</td>\n",
              "      <td>danny</td>\n",
              "      <td>eva</td>\n",
              "    </tr>\n",
              "    <tr>\n",
              "      <th>3</th>\n",
              "      <td>whisky</td>\n",
              "      <td>michael</td>\n",
              "      <td>burton</td>\n",
              "      <td>danny</td>\n",
              "    </tr>\n",
              "    <tr>\n",
              "      <th>4</th>\n",
              "      <td>wee</td>\n",
              "      <td>keaton</td>\n",
              "      <td>tim</td>\n",
              "      <td>burton</td>\n",
              "    </tr>\n",
              "    <tr>\n",
              "      <th>5</th>\n",
              "      <td>warner</td>\n",
              "      <td>eva</td>\n",
              "      <td>elefante</td>\n",
              "      <td>tim</td>\n",
              "    </tr>\n",
              "    <tr>\n",
              "      <th>6</th>\n",
              "      <td>walt</td>\n",
              "      <td>danny</td>\n",
              "      <td>sexual</td>\n",
              "      <td>elefante</td>\n",
              "    </tr>\n",
              "    <tr>\n",
              "      <th>7</th>\n",
              "      <td>wahlberg</td>\n",
              "      <td>burton</td>\n",
              "      <td>seminário</td>\n",
              "      <td>michael</td>\n",
              "    </tr>\n",
              "    <tr>\n",
              "      <th>8</th>\n",
              "      <td>válida</td>\n",
              "      <td>perguntaram</td>\n",
              "      <td>semanais</td>\n",
              "      <td>james</td>\n",
              "    </tr>\n",
              "    <tr>\n",
              "      <th>9</th>\n",
              "      <td>voltarmos</td>\n",
              "      <td>perguntar</td>\n",
              "      <td>remake</td>\n",
              "      <td>infância</td>\n",
              "    </tr>\n",
              "  </tbody>\n",
              "</table>\n",
              "</div>"
            ],
            "text/plain": [
              "         MIM         EMIM         X2      DICE\n",
              "0     éticas       sexual     keaton    sexual\n",
              "1    zumbido        crime        eva    keaton\n",
              "2   youtuber     crianças      danny       eva\n",
              "3     whisky      michael     burton     danny\n",
              "4        wee       keaton        tim    burton\n",
              "5     warner          eva   elefante       tim\n",
              "6       walt        danny     sexual  elefante\n",
              "7   wahlberg       burton  seminário   michael\n",
              "8     válida  perguntaram   semanais     james\n",
              "9  voltarmos    perguntar     remake  infância"
            ]
          },
          "metadata": {
            "tags": []
          },
          "execution_count": 1814
        }
      ]
    },
    {
      "cell_type": "markdown",
      "metadata": {
        "id": "8kXaB_pbvaY9",
        "colab_type": "text"
      },
      "source": [
        "## Qual métrica você acha que obteve os melhores resultados? Por que?"
      ]
    },
    {
      "cell_type": "markdown",
      "metadata": {
        "id": "YvnZQUMOvf2z",
        "colab_type": "text"
      },
      "source": [
        "Os melhores resultados foram do EMIM e o DICE, levando em consideração que seus resultados são mais generalistas e tem mais relação com o termo pesquisado. É possível perceber que a abordagem MIM, é bem ruim, termos sem relação com a palavra aparecem no top 10, isso occore porque ele  prioriza as palavras que aparecem menos, julgando-as como mais importantes fazendo com que os termos retornados com essa métrica são mais específicos"
      ]
    },
    {
      "cell_type": "markdown",
      "metadata": {
        "id": "lZd8NiwFvXJ8",
        "colab_type": "text"
      },
      "source": [
        "# Questão 2"
      ]
    },
    {
      "cell_type": "code",
      "metadata": {
        "id": "3XPehc5l0bzJ",
        "colab_type": "code",
        "colab": {}
      },
      "source": [
        "#consultas = ['escola','bolsonaro', 'lula', 'universidades', 'infantil']"
      ],
      "execution_count": 0,
      "outputs": []
    },
    {
      "cell_type": "code",
      "metadata": {
        "id": "I3-PThQqpFgH",
        "colab_type": "code",
        "colab": {}
      },
      "source": [
        "def top_docs(query, k):\n",
        "  \n",
        "  top_docs = [doc for score,doc in termAtTimeRetrieval(query, invertedIndex, k)]\n",
        "  top_docs_ranking = {} \n",
        "  \n",
        "  for word in invertedIndex:\n",
        "    top_docs_ranking[word] = []\n",
        "    for doc_score in invertedIndex[word]:\n",
        "      if doc_score[0] in top_docs:\n",
        "        top_docs_ranking[word].append(doc_score)\n",
        "        \n",
        "  return top_docs_ranking"
      ],
      "execution_count": 0,
      "outputs": []
    },
    {
      "cell_type": "code",
      "metadata": {
        "id": "lkcUxt0Gr7rK",
        "colab_type": "code",
        "colab": {}
      },
      "source": [
        "def conj_and(terms, invertedIndex, k):\n",
        "  indexes = []\n",
        "  rank = []\n",
        "  \n",
        "  ##Para cada termo recebido, se este termo está contindo nas chaves do meu IndiceInvertido construído anteriormente adicione na minha estrutura de listas invertidas \n",
        "  for term in terms.split():\n",
        "    if term in invertedIndex.keys():\n",
        "        indexes.append(invertedIndex[term])\n",
        "  \n",
        "  termos = [item for sublist in indexes for item in sublist]\n",
        "  termos.sort()\n",
        "  for i in range(len(termos)):\n",
        "    score = 0\n",
        "    d = termos.pop()\n",
        "    aux = 1\n",
        "    for index in termos:\n",
        "      if index[0] == d[0]:\n",
        "        score += index[1] + d[1]\n",
        "        aux += 1\n",
        "    if score != 0 and aux == len(indexes):\n",
        "      hp.heappush(rank, (d[0], score))\n",
        "  \n",
        "\n",
        "  return hp.nlargest(k, rank)\n",
        "\n",
        "#conj_and('juíza federal', invertedIndex, 10)"
      ],
      "execution_count": 0,
      "outputs": []
    },
    {
      "cell_type": "code",
      "metadata": {
        "id": "d-36dAqExouT",
        "colab_type": "code",
        "colab": {}
      },
      "source": [
        "consultas = []\n",
        "resultados = []\n"
      ],
      "execution_count": 0,
      "outputs": []
    },
    {
      "cell_type": "markdown",
      "metadata": {
        "id": "0mgip50Gsuua",
        "colab_type": "text"
      },
      "source": [
        "## Palavra: escola"
      ]
    },
    {
      "cell_type": "code",
      "metadata": {
        "id": "Gw4a-eMLtWxm",
        "colab_type": "code",
        "colab": {}
      },
      "source": [
        "consulta = expected_Mutual_Information(\"escola\", invertedIndex, documents)\n",
        "consulta10 = ' '.join(map(str, consulta))\n",
        "consultas.append(consulta10)\n",
        "resultado = conj_and(consulta10, invertedIndex, 10)\n",
        "resultados.append(resultado)"
      ],
      "execution_count": 0,
      "outputs": []
    },
    {
      "cell_type": "code",
      "metadata": {
        "id": "X-hYoF0LvZ__",
        "colab_type": "code",
        "colab": {}
      },
      "source": [
        "consulta5 = consulta[0:5]\n",
        "consulta5 = ' '.join(map(str, consulta5))\n",
        "consultas.append(consulta5)\n",
        "resultado = conj_and(consulta5, invertedIndex, 10)\n",
        "resultados.append(resultado)"
      ],
      "execution_count": 0,
      "outputs": []
    },
    {
      "cell_type": "code",
      "metadata": {
        "id": "tBfjVB_Lv7ox",
        "colab_type": "code",
        "colab": {}
      },
      "source": [
        "consulta3 = consulta[0:3]\n",
        "consulta3 = ' '.join(map(str, consulta3))\n",
        "consultas.append(consulta3)\n",
        "resultado = conj_and(consulta3, invertedIndex, 10)\n",
        "resultados.append(resultado)"
      ],
      "execution_count": 0,
      "outputs": []
    },
    {
      "cell_type": "code",
      "metadata": {
        "id": "iM3fMn-Syieo",
        "colab_type": "code",
        "colab": {
          "base_uri": "https://localhost:8080/",
          "height": 142
        },
        "outputId": "0d335f84-8d89-48d2-8570-a520e49855c4"
      },
      "source": [
        "table_question2 = pd.DataFrame()\n",
        "pd.options.display.max_colwidth = 160\n",
        "\n",
        "table_question2['Consultas'] = consultas\n",
        "table_question2['Documentos'] = resultados\n",
        "table_question2"
      ],
      "execution_count": 1822,
      "outputs": [
        {
          "output_type": "execute_result",
          "data": {
            "text/html": [
              "<div>\n",
              "<style scoped>\n",
              "    .dataframe tbody tr th:only-of-type {\n",
              "        vertical-align: middle;\n",
              "    }\n",
              "\n",
              "    .dataframe tbody tr th {\n",
              "        vertical-align: top;\n",
              "    }\n",
              "\n",
              "    .dataframe thead th {\n",
              "        text-align: right;\n",
              "    }\n",
              "</style>\n",
              "<table border=\"1\" class=\"dataframe\">\n",
              "  <thead>\n",
              "    <tr style=\"text-align: right;\">\n",
              "      <th></th>\n",
              "      <th>Consultas</th>\n",
              "      <th>Documentos</th>\n",
              "    </tr>\n",
              "  </thead>\n",
              "  <tbody>\n",
              "    <tr>\n",
              "      <th>0</th>\n",
              "      <td>universidade jovens querem professor criar enriquecer embruteceu educação professores cada</td>\n",
              "      <td>[]</td>\n",
              "    </tr>\n",
              "    <tr>\n",
              "      <th>1</th>\n",
              "      <td>universidade jovens querem professor criar</td>\n",
              "      <td>[]</td>\n",
              "    </tr>\n",
              "    <tr>\n",
              "      <th>2</th>\n",
              "      <td>universidade jovens querem</td>\n",
              "      <td>[(214, 12)]</td>\n",
              "    </tr>\n",
              "  </tbody>\n",
              "</table>\n",
              "</div>"
            ],
            "text/plain": [
              "                                                                                    Consultas   Documentos\n",
              "0  universidade jovens querem professor criar enriquecer embruteceu educação professores cada           []\n",
              "1                                                  universidade jovens querem professor criar           []\n",
              "2                                                                  universidade jovens querem  [(214, 12)]"
            ]
          },
          "metadata": {
            "tags": []
          },
          "execution_count": 1822
        }
      ]
    },
    {
      "cell_type": "markdown",
      "metadata": {
        "id": "aPo6RHMB0t8z",
        "colab_type": "text"
      },
      "source": [
        "## Palavra: Bolsonaro"
      ]
    },
    {
      "cell_type": "code",
      "metadata": {
        "id": "CmU_Zclx0xJq",
        "colab_type": "code",
        "colab": {}
      },
      "source": [
        "consulta = expected_Mutual_Information(\"bolsonaro\", invertedIndex, documents)\n",
        "consulta10 = ' '.join(map(str, consulta))\n",
        "consultas.append(consulta10)\n",
        "resultado = conj_and(consulta10, invertedIndex, 10)\n",
        "resultados.append(resultado)"
      ],
      "execution_count": 0,
      "outputs": []
    },
    {
      "cell_type": "code",
      "metadata": {
        "id": "Ab89gou90zGd",
        "colab_type": "code",
        "colab": {}
      },
      "source": [
        "consulta5 = consulta[0:5]\n",
        "consulta5 = ' '.join(map(str, consulta5))\n",
        "consultas.append(consulta5)\n",
        "resultado = conj_and(consulta5, invertedIndex, 10)\n",
        "resultados.append(resultado)"
      ],
      "execution_count": 0,
      "outputs": []
    },
    {
      "cell_type": "code",
      "metadata": {
        "id": "91s_NS3b02uo",
        "colab_type": "code",
        "colab": {}
      },
      "source": [
        "consulta3 = consulta[0:3]\n",
        "consulta3 = ' '.join(map(str, consulta3))\n",
        "consultas.append(consulta3)\n",
        "resultado = conj_and(consulta3, invertedIndex, 10)\n",
        "resultados.append(resultado)"
      ],
      "execution_count": 0,
      "outputs": []
    },
    {
      "cell_type": "code",
      "metadata": {
        "id": "IhuRNbvG04N_",
        "colab_type": "code",
        "colab": {
          "base_uri": "https://localhost:8080/",
          "height": 235
        },
        "outputId": "110c6da3-ca5c-41c0-8ab5-57ad0698bb91"
      },
      "source": [
        "table_question2 = pd.DataFrame()\n",
        "pd.options.display.max_colwidth = 160\n",
        "\n",
        "table_question2['Consultas'] = consultas\n",
        "table_question2['Documentos'] = resultados\n",
        "table_question2"
      ],
      "execution_count": 1826,
      "outputs": [
        {
          "output_type": "execute_result",
          "data": {
            "text/html": [
              "<div>\n",
              "<style scoped>\n",
              "    .dataframe tbody tr th:only-of-type {\n",
              "        vertical-align: middle;\n",
              "    }\n",
              "\n",
              "    .dataframe tbody tr th {\n",
              "        vertical-align: top;\n",
              "    }\n",
              "\n",
              "    .dataframe thead th {\n",
              "        text-align: right;\n",
              "    }\n",
              "</style>\n",
              "<table border=\"1\" class=\"dataframe\">\n",
              "  <thead>\n",
              "    <tr style=\"text-align: right;\">\n",
              "      <th></th>\n",
              "      <th>Consultas</th>\n",
              "      <th>Documentos</th>\n",
              "    </tr>\n",
              "  </thead>\n",
              "  <tbody>\n",
              "    <tr>\n",
              "      <th>0</th>\n",
              "      <td>universidade jovens querem professor criar enriquecer embruteceu educação professores cada</td>\n",
              "      <td>[]</td>\n",
              "    </tr>\n",
              "    <tr>\n",
              "      <th>1</th>\n",
              "      <td>universidade jovens querem professor criar</td>\n",
              "      <td>[]</td>\n",
              "    </tr>\n",
              "    <tr>\n",
              "      <th>2</th>\n",
              "      <td>universidade jovens querem</td>\n",
              "      <td>[(214, 12)]</td>\n",
              "    </tr>\n",
              "    <tr>\n",
              "      <th>3</th>\n",
              "      <td>presidente brasil governo brasileiro ministro reforma político psl jair prima</td>\n",
              "      <td>[]</td>\n",
              "    </tr>\n",
              "    <tr>\n",
              "      <th>4</th>\n",
              "      <td>presidente brasil governo brasileiro ministro</td>\n",
              "      <td>[(218, 21), (215, 44), (174, 36), (173, 74), (166, 98), (151, 205), (115, 57), (105, 36), (95, 30), (42, 36)]</td>\n",
              "    </tr>\n",
              "    <tr>\n",
              "      <th>5</th>\n",
              "      <td>presidente brasil governo</td>\n",
              "      <td>[(239, 4), (238, 21), (235, 23), (232, 7), (229, 26), (228, 13), (223, 11), (222, 9), (218, 11), (215, 15)]</td>\n",
              "    </tr>\n",
              "  </tbody>\n",
              "</table>\n",
              "</div>"
            ],
            "text/plain": [
              "                                                                                    Consultas                                                                                                     Documentos\n",
              "0  universidade jovens querem professor criar enriquecer embruteceu educação professores cada                                                                                                             []\n",
              "1                                                  universidade jovens querem professor criar                                                                                                             []\n",
              "2                                                                  universidade jovens querem                                                                                                    [(214, 12)]\n",
              "3               presidente brasil governo brasileiro ministro reforma político psl jair prima                                                                                                             []\n",
              "4                                               presidente brasil governo brasileiro ministro  [(218, 21), (215, 44), (174, 36), (173, 74), (166, 98), (151, 205), (115, 57), (105, 36), (95, 30), (42, 36)]\n",
              "5                                                                   presidente brasil governo    [(239, 4), (238, 21), (235, 23), (232, 7), (229, 26), (228, 13), (223, 11), (222, 9), (218, 11), (215, 15)]"
            ]
          },
          "metadata": {
            "tags": []
          },
          "execution_count": 1826
        }
      ]
    },
    {
      "cell_type": "markdown",
      "metadata": {
        "id": "f8zuat_y383Q",
        "colab_type": "text"
      },
      "source": [
        "## Palavra: lula"
      ]
    },
    {
      "cell_type": "code",
      "metadata": {
        "id": "tDJJF5GD3_VL",
        "colab_type": "code",
        "colab": {}
      },
      "source": [
        "consulta = expected_Mutual_Information(\"lula\", invertedIndex, documents)\n",
        "consulta10 = ' '.join(map(str, consulta))\n",
        "consultas.append(consulta10)\n",
        "resultado = conj_and(consulta10, invertedIndex, 10)\n",
        "resultados.append(resultado)"
      ],
      "execution_count": 0,
      "outputs": []
    },
    {
      "cell_type": "code",
      "metadata": {
        "id": "7FPC1LKd4B_e",
        "colab_type": "code",
        "colab": {}
      },
      "source": [
        "consulta5 = consulta[0:5]\n",
        "consulta5 = ' '.join(map(str, consulta5))\n",
        "consultas.append(consulta5)\n",
        "resultado = conj_and(consulta5, invertedIndex, 10)\n",
        "resultados.append(resultado)"
      ],
      "execution_count": 0,
      "outputs": []
    },
    {
      "cell_type": "code",
      "metadata": {
        "id": "Bt7l_1lK4E3i",
        "colab_type": "code",
        "colab": {}
      },
      "source": [
        "consulta3 = consulta[0:3]\n",
        "consulta3 = ' '.join(map(str, consulta3))\n",
        "consultas.append(consulta3)\n",
        "resultado = conj_and(consulta3, invertedIndex, 10)\n",
        "resultados.append(resultado)"
      ],
      "execution_count": 0,
      "outputs": []
    },
    {
      "cell_type": "code",
      "metadata": {
        "id": "dADm9jnY4GkH",
        "colab_type": "code",
        "colab": {
          "base_uri": "https://localhost:8080/",
          "height": 328
        },
        "outputId": "38d806e2-7896-4722-84ba-aed73a6c2dab"
      },
      "source": [
        "table_question2 = pd.DataFrame()\n",
        "pd.options.display.max_colwidth = 160\n",
        "\n",
        "table_question2['Consultas'] = consultas\n",
        "table_question2['Documentos'] = resultados\n",
        "table_question2"
      ],
      "execution_count": 1830,
      "outputs": [
        {
          "output_type": "execute_result",
          "data": {
            "text/html": [
              "<div>\n",
              "<style scoped>\n",
              "    .dataframe tbody tr th:only-of-type {\n",
              "        vertical-align: middle;\n",
              "    }\n",
              "\n",
              "    .dataframe tbody tr th {\n",
              "        vertical-align: top;\n",
              "    }\n",
              "\n",
              "    .dataframe thead th {\n",
              "        text-align: right;\n",
              "    }\n",
              "</style>\n",
              "<table border=\"1\" class=\"dataframe\">\n",
              "  <thead>\n",
              "    <tr style=\"text-align: right;\">\n",
              "      <th></th>\n",
              "      <th>Consultas</th>\n",
              "      <th>Documentos</th>\n",
              "    </tr>\n",
              "  </thead>\n",
              "  <tbody>\n",
              "    <tr>\n",
              "      <th>0</th>\n",
              "      <td>universidade jovens querem professor criar enriquecer embruteceu educação professores cada</td>\n",
              "      <td>[]</td>\n",
              "    </tr>\n",
              "    <tr>\n",
              "      <th>1</th>\n",
              "      <td>universidade jovens querem professor criar</td>\n",
              "      <td>[]</td>\n",
              "    </tr>\n",
              "    <tr>\n",
              "      <th>2</th>\n",
              "      <td>universidade jovens querem</td>\n",
              "      <td>[(214, 12)]</td>\n",
              "    </tr>\n",
              "    <tr>\n",
              "      <th>3</th>\n",
              "      <td>presidente brasil governo brasileiro ministro reforma político psl jair prima</td>\n",
              "      <td>[]</td>\n",
              "    </tr>\n",
              "    <tr>\n",
              "      <th>4</th>\n",
              "      <td>presidente brasil governo brasileiro ministro</td>\n",
              "      <td>[(218, 21), (215, 44), (174, 36), (173, 74), (166, 98), (151, 205), (115, 57), (105, 36), (95, 30), (42, 36)]</td>\n",
              "    </tr>\n",
              "    <tr>\n",
              "      <th>5</th>\n",
              "      <td>presidente brasil governo</td>\n",
              "      <td>[(239, 4), (238, 21), (235, 23), (232, 7), (229, 26), (228, 13), (223, 11), (222, 9), (218, 11), (215, 15)]</td>\n",
              "    </tr>\n",
              "    <tr>\n",
              "      <th>6</th>\n",
              "      <td>inácio bolsonaro póstuma província provas programação programada prisão suspender supremo</td>\n",
              "      <td>[]</td>\n",
              "    </tr>\n",
              "    <tr>\n",
              "      <th>7</th>\n",
              "      <td>inácio bolsonaro póstuma província provas</td>\n",
              "      <td>[]</td>\n",
              "    </tr>\n",
              "    <tr>\n",
              "      <th>8</th>\n",
              "      <td>inácio bolsonaro póstuma</td>\n",
              "      <td>[]</td>\n",
              "    </tr>\n",
              "  </tbody>\n",
              "</table>\n",
              "</div>"
            ],
            "text/plain": [
              "                                                                                    Consultas                                                                                                     Documentos\n",
              "0  universidade jovens querem professor criar enriquecer embruteceu educação professores cada                                                                                                             []\n",
              "1                                                  universidade jovens querem professor criar                                                                                                             []\n",
              "2                                                                  universidade jovens querem                                                                                                    [(214, 12)]\n",
              "3               presidente brasil governo brasileiro ministro reforma político psl jair prima                                                                                                             []\n",
              "4                                               presidente brasil governo brasileiro ministro  [(218, 21), (215, 44), (174, 36), (173, 74), (166, 98), (151, 205), (115, 57), (105, 36), (95, 30), (42, 36)]\n",
              "5                                                                   presidente brasil governo    [(239, 4), (238, 21), (235, 23), (232, 7), (229, 26), (228, 13), (223, 11), (222, 9), (218, 11), (215, 15)]\n",
              "6   inácio bolsonaro póstuma província provas programação programada prisão suspender supremo                                                                                                             []\n",
              "7                                                   inácio bolsonaro póstuma província provas                                                                                                             []\n",
              "8                                                                    inácio bolsonaro póstuma                                                                                                             []"
            ]
          },
          "metadata": {
            "tags": []
          },
          "execution_count": 1830
        }
      ]
    },
    {
      "cell_type": "markdown",
      "metadata": {
        "id": "xuPkfWNv4I2M",
        "colab_type": "text"
      },
      "source": [
        "## Palavra: universidades"
      ]
    },
    {
      "cell_type": "code",
      "metadata": {
        "id": "Zccud_oQ4NBC",
        "colab_type": "code",
        "colab": {}
      },
      "source": [
        "consulta = expected_Mutual_Information(\"universidades\", invertedIndex, documents)\n",
        "consulta10 = ' '.join(map(str, consulta))\n",
        "consultas.append(consulta10)\n",
        "resultado = conj_and(consulta10, invertedIndex, 10)\n",
        "resultados.append(resultado)"
      ],
      "execution_count": 0,
      "outputs": []
    },
    {
      "cell_type": "code",
      "metadata": {
        "id": "1zml_5_z4Owa",
        "colab_type": "code",
        "colab": {}
      },
      "source": [
        "consulta5 = consulta[0:5]\n",
        "consulta5 = ' '.join(map(str, consulta5))\n",
        "consultas.append(consulta5)\n",
        "resultado = conj_and(consulta5, invertedIndex, 10)\n",
        "resultados.append(resultado)"
      ],
      "execution_count": 0,
      "outputs": []
    },
    {
      "cell_type": "code",
      "metadata": {
        "id": "RF5vJTmH4QIg",
        "colab_type": "code",
        "colab": {}
      },
      "source": [
        "consulta3 = consulta[0:3]\n",
        "consulta3 = ' '.join(map(str, consulta3))\n",
        "consultas.append(consulta3)\n",
        "resultado = conj_and(consulta3, invertedIndex, 10)\n",
        "resultados.append(resultado)"
      ],
      "execution_count": 0,
      "outputs": []
    },
    {
      "cell_type": "code",
      "metadata": {
        "id": "xaBenEJ34SBN",
        "colab_type": "code",
        "colab": {
          "base_uri": "https://localhost:8080/",
          "height": 421
        },
        "outputId": "952ecff3-dc83-4a87-bdfc-6f6add82c358"
      },
      "source": [
        "table_question2 = pd.DataFrame()\n",
        "pd.options.display.max_colwidth = 160\n",
        "\n",
        "table_question2['Consultas'] = consultas\n",
        "table_question2['Documentos'] = resultados\n",
        "table_question2"
      ],
      "execution_count": 1834,
      "outputs": [
        {
          "output_type": "execute_result",
          "data": {
            "text/html": [
              "<div>\n",
              "<style scoped>\n",
              "    .dataframe tbody tr th:only-of-type {\n",
              "        vertical-align: middle;\n",
              "    }\n",
              "\n",
              "    .dataframe tbody tr th {\n",
              "        vertical-align: top;\n",
              "    }\n",
              "\n",
              "    .dataframe thead th {\n",
              "        text-align: right;\n",
              "    }\n",
              "</style>\n",
              "<table border=\"1\" class=\"dataframe\">\n",
              "  <thead>\n",
              "    <tr style=\"text-align: right;\">\n",
              "      <th></th>\n",
              "      <th>Consultas</th>\n",
              "      <th>Documentos</th>\n",
              "    </tr>\n",
              "  </thead>\n",
              "  <tbody>\n",
              "    <tr>\n",
              "      <th>0</th>\n",
              "      <td>universidade jovens querem professor criar enriquecer embruteceu educação professores cada</td>\n",
              "      <td>[]</td>\n",
              "    </tr>\n",
              "    <tr>\n",
              "      <th>1</th>\n",
              "      <td>universidade jovens querem professor criar</td>\n",
              "      <td>[]</td>\n",
              "    </tr>\n",
              "    <tr>\n",
              "      <th>2</th>\n",
              "      <td>universidade jovens querem</td>\n",
              "      <td>[(214, 12)]</td>\n",
              "    </tr>\n",
              "    <tr>\n",
              "      <th>3</th>\n",
              "      <td>presidente brasil governo brasileiro ministro reforma político psl jair prima</td>\n",
              "      <td>[]</td>\n",
              "    </tr>\n",
              "    <tr>\n",
              "      <th>4</th>\n",
              "      <td>presidente brasil governo brasileiro ministro</td>\n",
              "      <td>[(218, 21), (215, 44), (174, 36), (173, 74), (166, 98), (151, 205), (115, 57), (105, 36), (95, 30), (42, 36)]</td>\n",
              "    </tr>\n",
              "    <tr>\n",
              "      <th>5</th>\n",
              "      <td>presidente brasil governo</td>\n",
              "      <td>[(239, 4), (238, 21), (235, 23), (232, 7), (229, 26), (228, 13), (223, 11), (222, 9), (218, 11), (215, 15)]</td>\n",
              "    </tr>\n",
              "    <tr>\n",
              "      <th>6</th>\n",
              "      <td>inácio bolsonaro póstuma província provas programação programada prisão suspender supremo</td>\n",
              "      <td>[]</td>\n",
              "    </tr>\n",
              "    <tr>\n",
              "      <th>7</th>\n",
              "      <td>inácio bolsonaro póstuma província provas</td>\n",
              "      <td>[]</td>\n",
              "    </tr>\n",
              "    <tr>\n",
              "      <th>8</th>\n",
              "      <td>inácio bolsonaro póstuma</td>\n",
              "      <td>[]</td>\n",
              "    </tr>\n",
              "    <tr>\n",
              "      <th>9</th>\n",
              "      <td>precisa desastre problema harvard aulas muitos olavo ocorre originalmente olhava</td>\n",
              "      <td>[]</td>\n",
              "    </tr>\n",
              "    <tr>\n",
              "      <th>10</th>\n",
              "      <td>precisa desastre problema harvard aulas</td>\n",
              "      <td>[(130, 17)]</td>\n",
              "    </tr>\n",
              "    <tr>\n",
              "      <th>11</th>\n",
              "      <td>precisa desastre problema</td>\n",
              "      <td>[(248, 14), (130, 4), (129, 4), (34, 6), (32, 8)]</td>\n",
              "    </tr>\n",
              "  </tbody>\n",
              "</table>\n",
              "</div>"
            ],
            "text/plain": [
              "                                                                                     Consultas                                                                                                     Documentos\n",
              "0   universidade jovens querem professor criar enriquecer embruteceu educação professores cada                                                                                                             []\n",
              "1                                                   universidade jovens querem professor criar                                                                                                             []\n",
              "2                                                                   universidade jovens querem                                                                                                    [(214, 12)]\n",
              "3                presidente brasil governo brasileiro ministro reforma político psl jair prima                                                                                                             []\n",
              "4                                                presidente brasil governo brasileiro ministro  [(218, 21), (215, 44), (174, 36), (173, 74), (166, 98), (151, 205), (115, 57), (105, 36), (95, 30), (42, 36)]\n",
              "5                                                                    presidente brasil governo    [(239, 4), (238, 21), (235, 23), (232, 7), (229, 26), (228, 13), (223, 11), (222, 9), (218, 11), (215, 15)]\n",
              "6    inácio bolsonaro póstuma província provas programação programada prisão suspender supremo                                                                                                             []\n",
              "7                                                    inácio bolsonaro póstuma província provas                                                                                                             []\n",
              "8                                                                     inácio bolsonaro póstuma                                                                                                             []\n",
              "9             precisa desastre problema harvard aulas muitos olavo ocorre originalmente olhava                                                                                                             []\n",
              "10                                                     precisa desastre problema harvard aulas                                                                                                    [(130, 17)]\n",
              "11                                                                   precisa desastre problema                                                              [(248, 14), (130, 4), (129, 4), (34, 6), (32, 8)]"
            ]
          },
          "metadata": {
            "tags": []
          },
          "execution_count": 1834
        }
      ]
    },
    {
      "cell_type": "markdown",
      "metadata": {
        "id": "HZtszbSs4Ty-",
        "colab_type": "text"
      },
      "source": [
        "## Palavra: infantil"
      ]
    },
    {
      "cell_type": "code",
      "metadata": {
        "id": "uB9BnK7A4kJL",
        "colab_type": "code",
        "colab": {}
      },
      "source": [
        "consulta = expected_Mutual_Information(\"infantil\", invertedIndex, documents)\n",
        "consulta10 = ' '.join(map(str, consulta))\n",
        "consultas.append(consulta10)\n",
        "resultado = conj_and(consulta10, invertedIndex, 10)\n",
        "resultados.append(resultado)"
      ],
      "execution_count": 0,
      "outputs": []
    },
    {
      "cell_type": "code",
      "metadata": {
        "id": "gFiSpnFz4nBe",
        "colab_type": "code",
        "colab": {}
      },
      "source": [
        "consulta5 = consulta[0:5]\n",
        "consulta5 = ' '.join(map(str, consulta5))\n",
        "consultas.append(consulta5)\n",
        "resultado = conj_and(consulta5, invertedIndex, 10)\n",
        "resultados.append(resultado)"
      ],
      "execution_count": 0,
      "outputs": []
    },
    {
      "cell_type": "code",
      "metadata": {
        "id": "XKKW-q234n2x",
        "colab_type": "code",
        "colab": {}
      },
      "source": [
        "consulta3 = consulta[0:3]\n",
        "consulta3 = ' '.join(map(str, consulta3))\n",
        "consultas.append(consulta3)\n",
        "resultado = conj_and(consulta3, invertedIndex, 10)\n",
        "resultados.append(resultado)"
      ],
      "execution_count": 0,
      "outputs": []
    },
    {
      "cell_type": "code",
      "metadata": {
        "id": "t_VHBxtq4pm0",
        "colab_type": "code",
        "colab": {
          "base_uri": "https://localhost:8080/",
          "height": 514
        },
        "outputId": "99e28de8-eba6-4f65-9418-6539025ef79d"
      },
      "source": [
        "table_question2 = pd.DataFrame()\n",
        "pd.options.display.max_colwidth = 160\n",
        "\n",
        "table_question2['Consultas'] = consultas\n",
        "table_question2['Documentos'] = resultados\n",
        "table_question2"
      ],
      "execution_count": 1838,
      "outputs": [
        {
          "output_type": "execute_result",
          "data": {
            "text/html": [
              "<div>\n",
              "<style scoped>\n",
              "    .dataframe tbody tr th:only-of-type {\n",
              "        vertical-align: middle;\n",
              "    }\n",
              "\n",
              "    .dataframe tbody tr th {\n",
              "        vertical-align: top;\n",
              "    }\n",
              "\n",
              "    .dataframe thead th {\n",
              "        text-align: right;\n",
              "    }\n",
              "</style>\n",
              "<table border=\"1\" class=\"dataframe\">\n",
              "  <thead>\n",
              "    <tr style=\"text-align: right;\">\n",
              "      <th></th>\n",
              "      <th>Consultas</th>\n",
              "      <th>Documentos</th>\n",
              "    </tr>\n",
              "  </thead>\n",
              "  <tbody>\n",
              "    <tr>\n",
              "      <th>0</th>\n",
              "      <td>universidade jovens querem professor criar enriquecer embruteceu educação professores cada</td>\n",
              "      <td>[]</td>\n",
              "    </tr>\n",
              "    <tr>\n",
              "      <th>1</th>\n",
              "      <td>universidade jovens querem professor criar</td>\n",
              "      <td>[]</td>\n",
              "    </tr>\n",
              "    <tr>\n",
              "      <th>2</th>\n",
              "      <td>universidade jovens querem</td>\n",
              "      <td>[(214, 12)]</td>\n",
              "    </tr>\n",
              "    <tr>\n",
              "      <th>3</th>\n",
              "      <td>presidente brasil governo brasileiro ministro reforma político psl jair prima</td>\n",
              "      <td>[]</td>\n",
              "    </tr>\n",
              "    <tr>\n",
              "      <th>4</th>\n",
              "      <td>presidente brasil governo brasileiro ministro</td>\n",
              "      <td>[(218, 21), (215, 44), (174, 36), (173, 74), (166, 98), (151, 205), (115, 57), (105, 36), (95, 30), (42, 36)]</td>\n",
              "    </tr>\n",
              "    <tr>\n",
              "      <th>5</th>\n",
              "      <td>presidente brasil governo</td>\n",
              "      <td>[(239, 4), (238, 21), (235, 23), (232, 7), (229, 26), (228, 13), (223, 11), (222, 9), (218, 11), (215, 15)]</td>\n",
              "    </tr>\n",
              "    <tr>\n",
              "      <th>6</th>\n",
              "      <td>inácio bolsonaro póstuma província provas programação programada prisão suspender supremo</td>\n",
              "      <td>[]</td>\n",
              "    </tr>\n",
              "    <tr>\n",
              "      <th>7</th>\n",
              "      <td>inácio bolsonaro póstuma província provas</td>\n",
              "      <td>[]</td>\n",
              "    </tr>\n",
              "    <tr>\n",
              "      <th>8</th>\n",
              "      <td>inácio bolsonaro póstuma</td>\n",
              "      <td>[]</td>\n",
              "    </tr>\n",
              "    <tr>\n",
              "      <th>9</th>\n",
              "      <td>precisa desastre problema harvard aulas muitos olavo ocorre originalmente olhava</td>\n",
              "      <td>[]</td>\n",
              "    </tr>\n",
              "    <tr>\n",
              "      <th>10</th>\n",
              "      <td>precisa desastre problema harvard aulas</td>\n",
              "      <td>[(130, 17)]</td>\n",
              "    </tr>\n",
              "    <tr>\n",
              "      <th>11</th>\n",
              "      <td>precisa desastre problema</td>\n",
              "      <td>[(248, 14), (130, 4), (129, 4), (34, 6), (32, 8)]</td>\n",
              "    </tr>\n",
              "    <tr>\n",
              "      <th>12</th>\n",
              "      <td>sexual crime crianças michael keaton eva danny burton perguntaram perguntar</td>\n",
              "      <td>[]</td>\n",
              "    </tr>\n",
              "    <tr>\n",
              "      <th>13</th>\n",
              "      <td>sexual crime crianças michael keaton</td>\n",
              "      <td>[]</td>\n",
              "    </tr>\n",
              "    <tr>\n",
              "      <th>14</th>\n",
              "      <td>sexual crime crianças</td>\n",
              "      <td>[]</td>\n",
              "    </tr>\n",
              "  </tbody>\n",
              "</table>\n",
              "</div>"
            ],
            "text/plain": [
              "                                                                                     Consultas                                                                                                     Documentos\n",
              "0   universidade jovens querem professor criar enriquecer embruteceu educação professores cada                                                                                                             []\n",
              "1                                                   universidade jovens querem professor criar                                                                                                             []\n",
              "2                                                                   universidade jovens querem                                                                                                    [(214, 12)]\n",
              "3                presidente brasil governo brasileiro ministro reforma político psl jair prima                                                                                                             []\n",
              "4                                                presidente brasil governo brasileiro ministro  [(218, 21), (215, 44), (174, 36), (173, 74), (166, 98), (151, 205), (115, 57), (105, 36), (95, 30), (42, 36)]\n",
              "5                                                                    presidente brasil governo    [(239, 4), (238, 21), (235, 23), (232, 7), (229, 26), (228, 13), (223, 11), (222, 9), (218, 11), (215, 15)]\n",
              "6    inácio bolsonaro póstuma província provas programação programada prisão suspender supremo                                                                                                             []\n",
              "7                                                    inácio bolsonaro póstuma província provas                                                                                                             []\n",
              "8                                                                     inácio bolsonaro póstuma                                                                                                             []\n",
              "9             precisa desastre problema harvard aulas muitos olavo ocorre originalmente olhava                                                                                                             []\n",
              "10                                                     precisa desastre problema harvard aulas                                                                                                    [(130, 17)]\n",
              "11                                                                   precisa desastre problema                                                              [(248, 14), (130, 4), (129, 4), (34, 6), (32, 8)]\n",
              "12                 sexual crime crianças michael keaton eva danny burton perguntaram perguntar                                                                                                             []\n",
              "13                                                        sexual crime crianças michael keaton                                                                                                             []\n",
              "14                                                                       sexual crime crianças                                                                                                             []"
            ]
          },
          "metadata": {
            "tags": []
          },
          "execution_count": 1838
        }
      ]
    },
    {
      "cell_type": "markdown",
      "metadata": {
        "id": "0YUGWYyKuqhN",
        "colab_type": "text"
      },
      "source": [
        "## TOP 3"
      ]
    },
    {
      "cell_type": "code",
      "metadata": {
        "id": "J7jqSBbSu7gA",
        "colab_type": "code",
        "colab": {}
      },
      "source": [
        ""
      ],
      "execution_count": 0,
      "outputs": []
    },
    {
      "cell_type": "code",
      "metadata": {
        "id": "GM0quVAPIeHW",
        "colab_type": "code",
        "colab": {}
      },
      "source": [
        "k = 3\n",
        "ranking_docs1 = top_docs(\"escola\", k)\n",
        "ranking_docs2 = top_docs(\"bolsonaro\", k)\n",
        "ranking_docs3 = top_docs(\"lula\", k)\n",
        "ranking_docs4 = top_docs(\"universidades\", k)\n",
        "ranking_docs5 = top_docs(\"infantil\", k)"
      ],
      "execution_count": 0,
      "outputs": []
    },
    {
      "cell_type": "code",
      "metadata": {
        "id": "JytESIaQI4h8",
        "colab_type": "code",
        "colab": {}
      },
      "source": [
        "table_top1 = dices_coef(\"escola\", ranking_docs1)\n",
        "table_top2 = dices_coef(\"bolsonaro\", ranking_docs2)\n",
        "table_top3 = dices_coef(\"lula\", ranking_docs3)\n",
        "table_top4 = dices_coef(\"universidades\", ranking_docs4)\n",
        "table_top5 = dices_coef(\"infantil\", ranking_docs5)"
      ],
      "execution_count": 0,
      "outputs": []
    },
    {
      "cell_type": "code",
      "metadata": {
        "id": "z_bt72zPIubd",
        "colab_type": "code",
        "colab": {
          "base_uri": "https://localhost:8080/",
          "height": 359
        },
        "outputId": "4f13d8d2-6467-4c7b-c619-55d0fd3a050d"
      },
      "source": [
        "table_emim = pd.DataFrame()\n",
        "\n",
        "table_emim['Dice Antes'] = table1['DICE']\n",
        "table_emim['Dice Depois'] = table_top1\n",
        "\n",
        "table_emim"
      ],
      "execution_count": 1841,
      "outputs": [
        {
          "output_type": "execute_result",
          "data": {
            "text/html": [
              "<div>\n",
              "<style scoped>\n",
              "    .dataframe tbody tr th:only-of-type {\n",
              "        vertical-align: middle;\n",
              "    }\n",
              "\n",
              "    .dataframe tbody tr th {\n",
              "        vertical-align: top;\n",
              "    }\n",
              "\n",
              "    .dataframe thead th {\n",
              "        text-align: right;\n",
              "    }\n",
              "</style>\n",
              "<table border=\"1\" class=\"dataframe\">\n",
              "  <thead>\n",
              "    <tr style=\"text-align: right;\">\n",
              "      <th></th>\n",
              "      <th>Dice Antes</th>\n",
              "      <th>Dice Depois</th>\n",
              "    </tr>\n",
              "  </thead>\n",
              "  <tbody>\n",
              "    <tr>\n",
              "      <th>0</th>\n",
              "      <td>querem</td>\n",
              "      <td>última</td>\n",
              "    </tr>\n",
              "    <tr>\n",
              "      <th>1</th>\n",
              "      <td>universidade</td>\n",
              "      <td>ter</td>\n",
              "    </tr>\n",
              "    <tr>\n",
              "      <th>2</th>\n",
              "      <td>jovens</td>\n",
              "      <td>sido</td>\n",
              "    </tr>\n",
              "    <tr>\n",
              "      <th>3</th>\n",
              "      <td>professor</td>\n",
              "      <td>ser</td>\n",
              "    </tr>\n",
              "    <tr>\n",
              "      <th>4</th>\n",
              "      <td>criar</td>\n",
              "      <td>professores</td>\n",
              "    </tr>\n",
              "    <tr>\n",
              "      <th>5</th>\n",
              "      <td>educação</td>\n",
              "      <td>presidente</td>\n",
              "    </tr>\n",
              "    <tr>\n",
              "      <th>6</th>\n",
              "      <td>jovem</td>\n",
              "      <td>pessoa</td>\n",
              "    </tr>\n",
              "    <tr>\n",
              "      <th>7</th>\n",
              "      <td>discurso</td>\n",
              "      <td>parte</td>\n",
              "    </tr>\n",
              "    <tr>\n",
              "      <th>8</th>\n",
              "      <td>qualidade</td>\n",
              "      <td>massacre</td>\n",
              "    </tr>\n",
              "    <tr>\n",
              "      <th>9</th>\n",
              "      <td>superior</td>\n",
              "      <td>lidar</td>\n",
              "    </tr>\n",
              "  </tbody>\n",
              "</table>\n",
              "</div>"
            ],
            "text/plain": [
              "     Dice Antes  Dice Depois\n",
              "0        querem       última\n",
              "1  universidade          ter\n",
              "2        jovens         sido\n",
              "3     professor          ser\n",
              "4         criar  professores\n",
              "5      educação   presidente\n",
              "6         jovem       pessoa\n",
              "7      discurso        parte\n",
              "8     qualidade     massacre\n",
              "9      superior        lidar"
            ]
          },
          "metadata": {
            "tags": []
          },
          "execution_count": 1841
        }
      ]
    },
    {
      "cell_type": "code",
      "metadata": {
        "id": "sUzFJLEaK5rD",
        "colab_type": "code",
        "colab": {
          "base_uri": "https://localhost:8080/",
          "height": 359
        },
        "outputId": "58ee91a5-a3be-41c3-b6fd-afc2de95f764"
      },
      "source": [
        "table_emim2 = pd.DataFrame()\n",
        "\n",
        "table_emim2['Dice Antes'] = table2['DICE']\n",
        "table_emim2['Dice Depois'] = table_top2\n",
        "\n",
        "table_emim2"
      ],
      "execution_count": 1842,
      "outputs": [
        {
          "output_type": "execute_result",
          "data": {
            "text/html": [
              "<div>\n",
              "<style scoped>\n",
              "    .dataframe tbody tr th:only-of-type {\n",
              "        vertical-align: middle;\n",
              "    }\n",
              "\n",
              "    .dataframe tbody tr th {\n",
              "        vertical-align: top;\n",
              "    }\n",
              "\n",
              "    .dataframe thead th {\n",
              "        text-align: right;\n",
              "    }\n",
              "</style>\n",
              "<table border=\"1\" class=\"dataframe\">\n",
              "  <thead>\n",
              "    <tr style=\"text-align: right;\">\n",
              "      <th></th>\n",
              "      <th>Dice Antes</th>\n",
              "      <th>Dice Depois</th>\n",
              "    </tr>\n",
              "  </thead>\n",
              "  <tbody>\n",
              "    <tr>\n",
              "      <th>0</th>\n",
              "      <td>presidente</td>\n",
              "      <td>vez</td>\n",
              "    </tr>\n",
              "    <tr>\n",
              "      <th>1</th>\n",
              "      <td>brasil</td>\n",
              "      <td>três</td>\n",
              "    </tr>\n",
              "    <tr>\n",
              "      <th>2</th>\n",
              "      <td>governo</td>\n",
              "      <td>trata</td>\n",
              "    </tr>\n",
              "    <tr>\n",
              "      <th>3</th>\n",
              "      <td>brasileiro</td>\n",
              "      <td>trabalho</td>\n",
              "    </tr>\n",
              "    <tr>\n",
              "      <th>4</th>\n",
              "      <td>ministro</td>\n",
              "      <td>todas</td>\n",
              "    </tr>\n",
              "    <tr>\n",
              "      <th>5</th>\n",
              "      <td>político</td>\n",
              "      <td>sobre</td>\n",
              "    </tr>\n",
              "    <tr>\n",
              "      <th>6</th>\n",
              "      <td>brasileira</td>\n",
              "      <td>sob</td>\n",
              "    </tr>\n",
              "    <tr>\n",
              "      <th>7</th>\n",
              "      <td>ainda</td>\n",
              "      <td>site</td>\n",
              "    </tr>\n",
              "    <tr>\n",
              "      <th>8</th>\n",
              "      <td>paulo</td>\n",
              "      <td>sendo</td>\n",
              "    </tr>\n",
              "    <tr>\n",
              "      <th>9</th>\n",
              "      <td>federal</td>\n",
              "      <td>república</td>\n",
              "    </tr>\n",
              "  </tbody>\n",
              "</table>\n",
              "</div>"
            ],
            "text/plain": [
              "   Dice Antes Dice Depois\n",
              "0  presidente         vez\n",
              "1      brasil        três\n",
              "2     governo       trata\n",
              "3  brasileiro    trabalho\n",
              "4    ministro       todas\n",
              "5    político       sobre\n",
              "6  brasileira         sob\n",
              "7       ainda        site\n",
              "8       paulo       sendo\n",
              "9     federal   república"
            ]
          },
          "metadata": {
            "tags": []
          },
          "execution_count": 1842
        }
      ]
    },
    {
      "cell_type": "code",
      "metadata": {
        "id": "zZc8_Z7HSQy7",
        "colab_type": "code",
        "colab": {
          "base_uri": "https://localhost:8080/",
          "height": 359
        },
        "outputId": "3a4c026b-9b5c-4428-f7f4-ddf6918f01f4"
      },
      "source": [
        "table_emim3 = pd.DataFrame()\n",
        "\n",
        "table_emim3['Dice Antes'] = table3['DICE']\n",
        "table_emim3['Dice Depois'] = table_top3\n",
        "\n",
        "table_emim3"
      ],
      "execution_count": 1843,
      "outputs": [
        {
          "output_type": "execute_result",
          "data": {
            "text/html": [
              "<div>\n",
              "<style scoped>\n",
              "    .dataframe tbody tr th:only-of-type {\n",
              "        vertical-align: middle;\n",
              "    }\n",
              "\n",
              "    .dataframe tbody tr th {\n",
              "        vertical-align: top;\n",
              "    }\n",
              "\n",
              "    .dataframe thead th {\n",
              "        text-align: right;\n",
              "    }\n",
              "</style>\n",
              "<table border=\"1\" class=\"dataframe\">\n",
              "  <thead>\n",
              "    <tr style=\"text-align: right;\">\n",
              "      <th></th>\n",
              "      <th>Dice Antes</th>\n",
              "      <th>Dice Depois</th>\n",
              "    </tr>\n",
              "  </thead>\n",
              "  <tbody>\n",
              "    <tr>\n",
              "      <th>0</th>\n",
              "      <td>inácio</td>\n",
              "      <td>ter</td>\n",
              "    </tr>\n",
              "    <tr>\n",
              "      <th>1</th>\n",
              "      <td>silva</td>\n",
              "      <td>ser</td>\n",
              "    </tr>\n",
              "    <tr>\n",
              "      <th>2</th>\n",
              "      <td>michel</td>\n",
              "      <td>presidente</td>\n",
              "    </tr>\n",
              "    <tr>\n",
              "      <th>3</th>\n",
              "      <td>entregar</td>\n",
              "      <td>político</td>\n",
              "    </tr>\n",
              "    <tr>\n",
              "      <th>4</th>\n",
              "      <td>prisão</td>\n",
              "      <td>pode</td>\n",
              "    </tr>\n",
              "    <tr>\n",
              "      <th>5</th>\n",
              "      <td>recado</td>\n",
              "      <td>outros</td>\n",
              "    </tr>\n",
              "    <tr>\n",
              "      <th>6</th>\n",
              "      <td>temer</td>\n",
              "      <td>outro</td>\n",
              "    </tr>\n",
              "    <tr>\n",
              "      <th>7</th>\n",
              "      <td>psol</td>\n",
              "      <td>contra</td>\n",
              "    </tr>\n",
              "    <tr>\n",
              "      <th>8</th>\n",
              "      <td>negativa</td>\n",
              "      <td>brasil</td>\n",
              "    </tr>\n",
              "    <tr>\n",
              "      <th>9</th>\n",
              "      <td>lava</td>\n",
              "      <td>bolsonaro</td>\n",
              "    </tr>\n",
              "  </tbody>\n",
              "</table>\n",
              "</div>"
            ],
            "text/plain": [
              "  Dice Antes Dice Depois\n",
              "0     inácio         ter\n",
              "1      silva         ser\n",
              "2     michel  presidente\n",
              "3   entregar    político\n",
              "4     prisão        pode\n",
              "5     recado      outros\n",
              "6      temer       outro\n",
              "7       psol      contra\n",
              "8   negativa      brasil\n",
              "9       lava   bolsonaro"
            ]
          },
          "metadata": {
            "tags": []
          },
          "execution_count": 1843
        }
      ]
    },
    {
      "cell_type": "code",
      "metadata": {
        "id": "Xt5LNmWFT9Be",
        "colab_type": "code",
        "colab": {
          "base_uri": "https://localhost:8080/",
          "height": 359
        },
        "outputId": "32c4e2aa-20df-444b-9a4a-26f963416450"
      },
      "source": [
        "table_emim4 = pd.DataFrame()\n",
        "\n",
        "table_emim4['Dice Antes'] = table4['DICE']\n",
        "table_emim4['Dice Depois'] = table_top4\n",
        "\n",
        "table_emim4"
      ],
      "execution_count": 1844,
      "outputs": [
        {
          "output_type": "execute_result",
          "data": {
            "text/html": [
              "<div>\n",
              "<style scoped>\n",
              "    .dataframe tbody tr th:only-of-type {\n",
              "        vertical-align: middle;\n",
              "    }\n",
              "\n",
              "    .dataframe tbody tr th {\n",
              "        vertical-align: top;\n",
              "    }\n",
              "\n",
              "    .dataframe thead th {\n",
              "        text-align: right;\n",
              "    }\n",
              "</style>\n",
              "<table border=\"1\" class=\"dataframe\">\n",
              "  <thead>\n",
              "    <tr style=\"text-align: right;\">\n",
              "      <th></th>\n",
              "      <th>Dice Antes</th>\n",
              "      <th>Dice Depois</th>\n",
              "    </tr>\n",
              "  </thead>\n",
              "  <tbody>\n",
              "    <tr>\n",
              "      <th>0</th>\n",
              "      <td>desastre</td>\n",
              "      <td>universidade</td>\n",
              "    </tr>\n",
              "    <tr>\n",
              "      <th>1</th>\n",
              "      <td>harvard</td>\n",
              "      <td>todos</td>\n",
              "    </tr>\n",
              "    <tr>\n",
              "      <th>2</th>\n",
              "      <td>aulas</td>\n",
              "      <td>ter</td>\n",
              "    </tr>\n",
              "    <tr>\n",
              "      <th>3</th>\n",
              "      <td>concentrar</td>\n",
              "      <td>sobre</td>\n",
              "    </tr>\n",
              "    <tr>\n",
              "      <th>4</th>\n",
              "      <td>estudantes</td>\n",
              "      <td>ser</td>\n",
              "    </tr>\n",
              "    <tr>\n",
              "      <th>5</th>\n",
              "      <td>ocorre</td>\n",
              "      <td>quatro</td>\n",
              "    </tr>\n",
              "    <tr>\n",
              "      <th>6</th>\n",
              "      <td>yale</td>\n",
              "      <td>quase</td>\n",
              "    </tr>\n",
              "    <tr>\n",
              "      <th>7</th>\n",
              "      <td>robert</td>\n",
              "      <td>presidente</td>\n",
              "    </tr>\n",
              "    <tr>\n",
              "      <th>8</th>\n",
              "      <td>financiamento</td>\n",
              "      <td>pessoas</td>\n",
              "    </tr>\n",
              "    <tr>\n",
              "      <th>9</th>\n",
              "      <td>precisa</td>\n",
              "      <td>mundo</td>\n",
              "    </tr>\n",
              "  </tbody>\n",
              "</table>\n",
              "</div>"
            ],
            "text/plain": [
              "      Dice Antes   Dice Depois\n",
              "0       desastre  universidade\n",
              "1        harvard         todos\n",
              "2          aulas           ter\n",
              "3     concentrar         sobre\n",
              "4     estudantes           ser\n",
              "5         ocorre        quatro\n",
              "6           yale         quase\n",
              "7         robert    presidente\n",
              "8  financiamento       pessoas\n",
              "9        precisa         mundo"
            ]
          },
          "metadata": {
            "tags": []
          },
          "execution_count": 1844
        }
      ]
    },
    {
      "cell_type": "code",
      "metadata": {
        "id": "LDeFlc8CT90X",
        "colab_type": "code",
        "colab": {
          "base_uri": "https://localhost:8080/",
          "height": 359
        },
        "outputId": "d2cc2c21-1d70-406f-e10f-a339144c1cdc"
      },
      "source": [
        "table_emim5 = pd.DataFrame()\n",
        "\n",
        "table_emim5['Dice Antes'] = table5['DICE']\n",
        "table_emim5['Dice Depois'] = table_top5\n",
        "\n",
        "table_emim5"
      ],
      "execution_count": 1845,
      "outputs": [
        {
          "output_type": "execute_result",
          "data": {
            "text/html": [
              "<div>\n",
              "<style scoped>\n",
              "    .dataframe tbody tr th:only-of-type {\n",
              "        vertical-align: middle;\n",
              "    }\n",
              "\n",
              "    .dataframe tbody tr th {\n",
              "        vertical-align: top;\n",
              "    }\n",
              "\n",
              "    .dataframe thead th {\n",
              "        text-align: right;\n",
              "    }\n",
              "</style>\n",
              "<table border=\"1\" class=\"dataframe\">\n",
              "  <thead>\n",
              "    <tr style=\"text-align: right;\">\n",
              "      <th></th>\n",
              "      <th>Dice Antes</th>\n",
              "      <th>Dice Depois</th>\n",
              "    </tr>\n",
              "  </thead>\n",
              "  <tbody>\n",
              "    <tr>\n",
              "      <th>0</th>\n",
              "      <td>sexual</td>\n",
              "      <td>tempo</td>\n",
              "    </tr>\n",
              "    <tr>\n",
              "      <th>1</th>\n",
              "      <td>keaton</td>\n",
              "      <td>sobre</td>\n",
              "    </tr>\n",
              "    <tr>\n",
              "      <th>2</th>\n",
              "      <td>eva</td>\n",
              "      <td>ser</td>\n",
              "    </tr>\n",
              "    <tr>\n",
              "      <th>3</th>\n",
              "      <td>danny</td>\n",
              "      <td>primeira</td>\n",
              "    </tr>\n",
              "    <tr>\n",
              "      <th>4</th>\n",
              "      <td>burton</td>\n",
              "      <td>precisa</td>\n",
              "    </tr>\n",
              "    <tr>\n",
              "      <th>5</th>\n",
              "      <td>tim</td>\n",
              "      <td>parte</td>\n",
              "    </tr>\n",
              "    <tr>\n",
              "      <th>6</th>\n",
              "      <td>elefante</td>\n",
              "      <td>meio</td>\n",
              "    </tr>\n",
              "    <tr>\n",
              "      <th>7</th>\n",
              "      <td>michael</td>\n",
              "      <td>hoje</td>\n",
              "    </tr>\n",
              "    <tr>\n",
              "      <th>8</th>\n",
              "      <td>james</td>\n",
              "      <td>filho</td>\n",
              "    </tr>\n",
              "    <tr>\n",
              "      <th>9</th>\n",
              "      <td>infância</td>\n",
              "      <td>fato</td>\n",
              "    </tr>\n",
              "  </tbody>\n",
              "</table>\n",
              "</div>"
            ],
            "text/plain": [
              "  Dice Antes Dice Depois\n",
              "0     sexual       tempo\n",
              "1     keaton       sobre\n",
              "2        eva         ser\n",
              "3      danny    primeira\n",
              "4     burton     precisa\n",
              "5        tim       parte\n",
              "6   elefante        meio\n",
              "7    michael        hoje\n",
              "8      james       filho\n",
              "9   infância        fato"
            ]
          },
          "metadata": {
            "tags": []
          },
          "execution_count": 1845
        }
      ]
    },
    {
      "cell_type": "markdown",
      "metadata": {
        "id": "Oy711hbQuulf",
        "colab_type": "text"
      },
      "source": [
        "## TOP 5"
      ]
    },
    {
      "cell_type": "code",
      "metadata": {
        "id": "SmhrfgIMuw3q",
        "colab_type": "code",
        "colab": {}
      },
      "source": [
        "k = 5\n",
        "ranking_docs1 = top_docs(\"escola\", k)\n",
        "ranking_docs2 = top_docs(\"bolsonaro\", k)\n",
        "ranking_docs3 = top_docs(\"lula\", k)\n",
        "ranking_docs4 = top_docs(\"universidades\", k)\n",
        "ranking_docs5 = top_docs(\"infantil\", k)"
      ],
      "execution_count": 0,
      "outputs": []
    },
    {
      "cell_type": "code",
      "metadata": {
        "id": "rnKVDmRMu2Ql",
        "colab_type": "code",
        "colab": {}
      },
      "source": [
        "table_top1 = dices_coef(\"escola\", ranking_docs1)\n",
        "table_top2 = dices_coef(\"bolsonaro\", ranking_docs2)\n",
        "table_top3 = dices_coef(\"lula\", ranking_docs3)\n",
        "table_top4 = dices_coef(\"universidades\", ranking_docs4)\n",
        "table_top5 = dices_coef(\"infantil\", ranking_docs5)"
      ],
      "execution_count": 0,
      "outputs": []
    },
    {
      "cell_type": "code",
      "metadata": {
        "id": "HqstKa09u6Cw",
        "colab_type": "code",
        "colab": {
          "base_uri": "https://localhost:8080/",
          "height": 359
        },
        "outputId": "e1192634-3ec9-41bf-eb51-169b24c81732"
      },
      "source": [
        "table_dice = pd.DataFrame()\n",
        "\n",
        "table_dice['Dice Antes'] = table1['DICE']\n",
        "table_dice['Dice Depois'] = table_top1\n",
        "\n",
        "table_dice"
      ],
      "execution_count": 1848,
      "outputs": [
        {
          "output_type": "execute_result",
          "data": {
            "text/html": [
              "<div>\n",
              "<style scoped>\n",
              "    .dataframe tbody tr th:only-of-type {\n",
              "        vertical-align: middle;\n",
              "    }\n",
              "\n",
              "    .dataframe tbody tr th {\n",
              "        vertical-align: top;\n",
              "    }\n",
              "\n",
              "    .dataframe thead th {\n",
              "        text-align: right;\n",
              "    }\n",
              "</style>\n",
              "<table border=\"1\" class=\"dataframe\">\n",
              "  <thead>\n",
              "    <tr style=\"text-align: right;\">\n",
              "      <th></th>\n",
              "      <th>Dice Antes</th>\n",
              "      <th>Dice Depois</th>\n",
              "    </tr>\n",
              "  </thead>\n",
              "  <tbody>\n",
              "    <tr>\n",
              "      <th>0</th>\n",
              "      <td>querem</td>\n",
              "      <td>ter</td>\n",
              "    </tr>\n",
              "    <tr>\n",
              "      <th>1</th>\n",
              "      <td>universidade</td>\n",
              "      <td>sido</td>\n",
              "    </tr>\n",
              "    <tr>\n",
              "      <th>2</th>\n",
              "      <td>jovens</td>\n",
              "      <td>ser</td>\n",
              "    </tr>\n",
              "    <tr>\n",
              "      <th>3</th>\n",
              "      <td>professor</td>\n",
              "      <td>pessoa</td>\n",
              "    </tr>\n",
              "    <tr>\n",
              "      <th>4</th>\n",
              "      <td>criar</td>\n",
              "      <td>parte</td>\n",
              "    </tr>\n",
              "    <tr>\n",
              "      <th>5</th>\n",
              "      <td>educação</td>\n",
              "      <td>duas</td>\n",
              "    </tr>\n",
              "    <tr>\n",
              "      <th>6</th>\n",
              "      <td>jovem</td>\n",
              "      <td>dias</td>\n",
              "    </tr>\n",
              "    <tr>\n",
              "      <th>7</th>\n",
              "      <td>discurso</td>\n",
              "      <td>anos</td>\n",
              "    </tr>\n",
              "    <tr>\n",
              "      <th>8</th>\n",
              "      <td>qualidade</td>\n",
              "      <td>última</td>\n",
              "    </tr>\n",
              "    <tr>\n",
              "      <th>9</th>\n",
              "      <td>superior</td>\n",
              "      <td>violência</td>\n",
              "    </tr>\n",
              "  </tbody>\n",
              "</table>\n",
              "</div>"
            ],
            "text/plain": [
              "     Dice Antes Dice Depois\n",
              "0        querem         ter\n",
              "1  universidade        sido\n",
              "2        jovens         ser\n",
              "3     professor      pessoa\n",
              "4         criar       parte\n",
              "5      educação        duas\n",
              "6         jovem        dias\n",
              "7      discurso        anos\n",
              "8     qualidade      última\n",
              "9      superior   violência"
            ]
          },
          "metadata": {
            "tags": []
          },
          "execution_count": 1848
        }
      ]
    },
    {
      "cell_type": "code",
      "metadata": {
        "id": "TkEhM8xpu9oh",
        "colab_type": "code",
        "colab": {
          "base_uri": "https://localhost:8080/",
          "height": 359
        },
        "outputId": "c63aabba-12d9-4246-f118-fd354007bdfc"
      },
      "source": [
        "table_dice2 = pd.DataFrame()\n",
        "\n",
        "table_dice2['Dice Antes'] = table2['DICE']\n",
        "table_dice2['Dice Depois'] = table_top2\n",
        "\n",
        "table_dice2"
      ],
      "execution_count": 1849,
      "outputs": [
        {
          "output_type": "execute_result",
          "data": {
            "text/html": [
              "<div>\n",
              "<style scoped>\n",
              "    .dataframe tbody tr th:only-of-type {\n",
              "        vertical-align: middle;\n",
              "    }\n",
              "\n",
              "    .dataframe tbody tr th {\n",
              "        vertical-align: top;\n",
              "    }\n",
              "\n",
              "    .dataframe thead th {\n",
              "        text-align: right;\n",
              "    }\n",
              "</style>\n",
              "<table border=\"1\" class=\"dataframe\">\n",
              "  <thead>\n",
              "    <tr style=\"text-align: right;\">\n",
              "      <th></th>\n",
              "      <th>Dice Antes</th>\n",
              "      <th>Dice Depois</th>\n",
              "    </tr>\n",
              "  </thead>\n",
              "  <tbody>\n",
              "    <tr>\n",
              "      <th>0</th>\n",
              "      <td>presidente</td>\n",
              "      <td>sobre</td>\n",
              "    </tr>\n",
              "    <tr>\n",
              "      <th>1</th>\n",
              "      <td>brasil</td>\n",
              "      <td>quase</td>\n",
              "    </tr>\n",
              "    <tr>\n",
              "      <th>2</th>\n",
              "      <td>governo</td>\n",
              "      <td>presidente</td>\n",
              "    </tr>\n",
              "    <tr>\n",
              "      <th>3</th>\n",
              "      <td>brasileiro</td>\n",
              "      <td>porém</td>\n",
              "    </tr>\n",
              "    <tr>\n",
              "      <th>4</th>\n",
              "      <td>ministro</td>\n",
              "      <td>pessoas</td>\n",
              "    </tr>\n",
              "    <tr>\n",
              "      <th>5</th>\n",
              "      <td>político</td>\n",
              "      <td>outro</td>\n",
              "    </tr>\n",
              "    <tr>\n",
              "      <th>6</th>\n",
              "      <td>brasileira</td>\n",
              "      <td>militar</td>\n",
              "    </tr>\n",
              "    <tr>\n",
              "      <th>7</th>\n",
              "      <td>ainda</td>\n",
              "      <td>fazer</td>\n",
              "    </tr>\n",
              "    <tr>\n",
              "      <th>8</th>\n",
              "      <td>paulo</td>\n",
              "      <td>envolvendo</td>\n",
              "    </tr>\n",
              "    <tr>\n",
              "      <th>9</th>\n",
              "      <td>federal</td>\n",
              "      <td>conta</td>\n",
              "    </tr>\n",
              "  </tbody>\n",
              "</table>\n",
              "</div>"
            ],
            "text/plain": [
              "   Dice Antes Dice Depois\n",
              "0  presidente       sobre\n",
              "1      brasil       quase\n",
              "2     governo  presidente\n",
              "3  brasileiro       porém\n",
              "4    ministro     pessoas\n",
              "5    político       outro\n",
              "6  brasileira     militar\n",
              "7       ainda       fazer\n",
              "8       paulo  envolvendo\n",
              "9     federal       conta"
            ]
          },
          "metadata": {
            "tags": []
          },
          "execution_count": 1849
        }
      ]
    },
    {
      "cell_type": "code",
      "metadata": {
        "id": "cAs8MnLivAmO",
        "colab_type": "code",
        "colab": {
          "base_uri": "https://localhost:8080/",
          "height": 359
        },
        "outputId": "7a9ba2ff-7d08-4c93-ac91-27301c9eb685"
      },
      "source": [
        "table_dice3 = pd.DataFrame()\n",
        "\n",
        "table_dice3['Dice Antes'] = table3['DICE']\n",
        "table_dice3['Dice Depois'] = table_top3\n",
        "\n",
        "table_dice3"
      ],
      "execution_count": 1850,
      "outputs": [
        {
          "output_type": "execute_result",
          "data": {
            "text/html": [
              "<div>\n",
              "<style scoped>\n",
              "    .dataframe tbody tr th:only-of-type {\n",
              "        vertical-align: middle;\n",
              "    }\n",
              "\n",
              "    .dataframe tbody tr th {\n",
              "        vertical-align: top;\n",
              "    }\n",
              "\n",
              "    .dataframe thead th {\n",
              "        text-align: right;\n",
              "    }\n",
              "</style>\n",
              "<table border=\"1\" class=\"dataframe\">\n",
              "  <thead>\n",
              "    <tr style=\"text-align: right;\">\n",
              "      <th></th>\n",
              "      <th>Dice Antes</th>\n",
              "      <th>Dice Depois</th>\n",
              "    </tr>\n",
              "  </thead>\n",
              "  <tbody>\n",
              "    <tr>\n",
              "      <th>0</th>\n",
              "      <td>inácio</td>\n",
              "      <td>ser</td>\n",
              "    </tr>\n",
              "    <tr>\n",
              "      <th>1</th>\n",
              "      <td>silva</td>\n",
              "      <td>presidente</td>\n",
              "    </tr>\n",
              "    <tr>\n",
              "      <th>2</th>\n",
              "      <td>michel</td>\n",
              "      <td>todos</td>\n",
              "    </tr>\n",
              "    <tr>\n",
              "      <th>3</th>\n",
              "      <td>entregar</td>\n",
              "      <td>ter</td>\n",
              "    </tr>\n",
              "    <tr>\n",
              "      <th>4</th>\n",
              "      <td>prisão</td>\n",
              "      <td>sobre</td>\n",
              "    </tr>\n",
              "    <tr>\n",
              "      <th>5</th>\n",
              "      <td>recado</td>\n",
              "      <td>prisão</td>\n",
              "    </tr>\n",
              "    <tr>\n",
              "      <th>6</th>\n",
              "      <td>temer</td>\n",
              "      <td>preso</td>\n",
              "    </tr>\n",
              "    <tr>\n",
              "      <th>7</th>\n",
              "      <td>psol</td>\n",
              "      <td>político</td>\n",
              "    </tr>\n",
              "    <tr>\n",
              "      <th>8</th>\n",
              "      <td>negativa</td>\n",
              "      <td>pode</td>\n",
              "    </tr>\n",
              "    <tr>\n",
              "      <th>9</th>\n",
              "      <td>lava</td>\n",
              "      <td>outros</td>\n",
              "    </tr>\n",
              "  </tbody>\n",
              "</table>\n",
              "</div>"
            ],
            "text/plain": [
              "  Dice Antes Dice Depois\n",
              "0     inácio         ser\n",
              "1      silva  presidente\n",
              "2     michel       todos\n",
              "3   entregar         ter\n",
              "4     prisão       sobre\n",
              "5     recado      prisão\n",
              "6      temer       preso\n",
              "7       psol    político\n",
              "8   negativa        pode\n",
              "9       lava      outros"
            ]
          },
          "metadata": {
            "tags": []
          },
          "execution_count": 1850
        }
      ]
    },
    {
      "cell_type": "code",
      "metadata": {
        "id": "WNaIpirxvCef",
        "colab_type": "code",
        "colab": {
          "base_uri": "https://localhost:8080/",
          "height": 359
        },
        "outputId": "31f475b6-3842-42d9-fa7a-6247740720b8"
      },
      "source": [
        "table_dice4 = pd.DataFrame()\n",
        "\n",
        "table_dice4['Dice Antes'] = table4['DICE']\n",
        "table_dice4['Dice Depois'] = table_top4\n",
        "\n",
        "table_dice4"
      ],
      "execution_count": 1851,
      "outputs": [
        {
          "output_type": "execute_result",
          "data": {
            "text/html": [
              "<div>\n",
              "<style scoped>\n",
              "    .dataframe tbody tr th:only-of-type {\n",
              "        vertical-align: middle;\n",
              "    }\n",
              "\n",
              "    .dataframe tbody tr th {\n",
              "        vertical-align: top;\n",
              "    }\n",
              "\n",
              "    .dataframe thead th {\n",
              "        text-align: right;\n",
              "    }\n",
              "</style>\n",
              "<table border=\"1\" class=\"dataframe\">\n",
              "  <thead>\n",
              "    <tr style=\"text-align: right;\">\n",
              "      <th></th>\n",
              "      <th>Dice Antes</th>\n",
              "      <th>Dice Depois</th>\n",
              "    </tr>\n",
              "  </thead>\n",
              "  <tbody>\n",
              "    <tr>\n",
              "      <th>0</th>\n",
              "      <td>desastre</td>\n",
              "      <td>ter</td>\n",
              "    </tr>\n",
              "    <tr>\n",
              "      <th>1</th>\n",
              "      <td>harvard</td>\n",
              "      <td>ser</td>\n",
              "    </tr>\n",
              "    <tr>\n",
              "      <th>2</th>\n",
              "      <td>aulas</td>\n",
              "      <td>presidente</td>\n",
              "    </tr>\n",
              "    <tr>\n",
              "      <th>3</th>\n",
              "      <td>concentrar</td>\n",
              "      <td>diz</td>\n",
              "    </tr>\n",
              "    <tr>\n",
              "      <th>4</th>\n",
              "      <td>estudantes</td>\n",
              "      <td>anos</td>\n",
              "    </tr>\n",
              "    <tr>\n",
              "      <th>5</th>\n",
              "      <td>ocorre</td>\n",
              "      <td>universidade</td>\n",
              "    </tr>\n",
              "    <tr>\n",
              "      <th>6</th>\n",
              "      <td>yale</td>\n",
              "      <td>trabalhar</td>\n",
              "    </tr>\n",
              "    <tr>\n",
              "      <th>7</th>\n",
              "      <td>robert</td>\n",
              "      <td>sobre</td>\n",
              "    </tr>\n",
              "    <tr>\n",
              "      <th>8</th>\n",
              "      <td>financiamento</td>\n",
              "      <td>quase</td>\n",
              "    </tr>\n",
              "    <tr>\n",
              "      <th>9</th>\n",
              "      <td>precisa</td>\n",
              "      <td>precisa</td>\n",
              "    </tr>\n",
              "  </tbody>\n",
              "</table>\n",
              "</div>"
            ],
            "text/plain": [
              "      Dice Antes   Dice Depois\n",
              "0       desastre           ter\n",
              "1        harvard           ser\n",
              "2          aulas    presidente\n",
              "3     concentrar           diz\n",
              "4     estudantes          anos\n",
              "5         ocorre  universidade\n",
              "6           yale     trabalhar\n",
              "7         robert         sobre\n",
              "8  financiamento         quase\n",
              "9        precisa       precisa"
            ]
          },
          "metadata": {
            "tags": []
          },
          "execution_count": 1851
        }
      ]
    },
    {
      "cell_type": "code",
      "metadata": {
        "id": "xq98duMSvEQk",
        "colab_type": "code",
        "colab": {
          "base_uri": "https://localhost:8080/",
          "height": 359
        },
        "outputId": "7b6fa83b-bdf2-4b48-b293-4ebe50626f82"
      },
      "source": [
        "table_dice5 = pd.DataFrame()\n",
        "\n",
        "table_dice5['Dice Antes'] = table5['DICE']\n",
        "table_dice5['Dice Depois'] = table_top5\n",
        "\n",
        "table_dice5"
      ],
      "execution_count": 1852,
      "outputs": [
        {
          "output_type": "execute_result",
          "data": {
            "text/html": [
              "<div>\n",
              "<style scoped>\n",
              "    .dataframe tbody tr th:only-of-type {\n",
              "        vertical-align: middle;\n",
              "    }\n",
              "\n",
              "    .dataframe tbody tr th {\n",
              "        vertical-align: top;\n",
              "    }\n",
              "\n",
              "    .dataframe thead th {\n",
              "        text-align: right;\n",
              "    }\n",
              "</style>\n",
              "<table border=\"1\" class=\"dataframe\">\n",
              "  <thead>\n",
              "    <tr style=\"text-align: right;\">\n",
              "      <th></th>\n",
              "      <th>Dice Antes</th>\n",
              "      <th>Dice Depois</th>\n",
              "    </tr>\n",
              "  </thead>\n",
              "  <tbody>\n",
              "    <tr>\n",
              "      <th>0</th>\n",
              "      <td>sexual</td>\n",
              "      <td>anos</td>\n",
              "    </tr>\n",
              "    <tr>\n",
              "      <th>1</th>\n",
              "      <td>keaton</td>\n",
              "      <td>ainda</td>\n",
              "    </tr>\n",
              "    <tr>\n",
              "      <th>2</th>\n",
              "      <td>eva</td>\n",
              "      <td>tempo</td>\n",
              "    </tr>\n",
              "    <tr>\n",
              "      <th>3</th>\n",
              "      <td>danny</td>\n",
              "      <td>sobre</td>\n",
              "    </tr>\n",
              "    <tr>\n",
              "      <th>4</th>\n",
              "      <td>burton</td>\n",
              "      <td>ser</td>\n",
              "    </tr>\n",
              "    <tr>\n",
              "      <th>5</th>\n",
              "      <td>tim</td>\n",
              "      <td>sempre</td>\n",
              "    </tr>\n",
              "    <tr>\n",
              "      <th>6</th>\n",
              "      <td>elefante</td>\n",
              "      <td>público</td>\n",
              "    </tr>\n",
              "    <tr>\n",
              "      <th>7</th>\n",
              "      <td>michael</td>\n",
              "      <td>precisa</td>\n",
              "    </tr>\n",
              "    <tr>\n",
              "      <th>8</th>\n",
              "      <td>james</td>\n",
              "      <td>muitos</td>\n",
              "    </tr>\n",
              "    <tr>\n",
              "      <th>9</th>\n",
              "      <td>infância</td>\n",
              "      <td>infância</td>\n",
              "    </tr>\n",
              "  </tbody>\n",
              "</table>\n",
              "</div>"
            ],
            "text/plain": [
              "  Dice Antes Dice Depois\n",
              "0     sexual        anos\n",
              "1     keaton       ainda\n",
              "2        eva       tempo\n",
              "3      danny       sobre\n",
              "4     burton         ser\n",
              "5        tim      sempre\n",
              "6   elefante     público\n",
              "7    michael     precisa\n",
              "8      james      muitos\n",
              "9   infância    infância"
            ]
          },
          "metadata": {
            "tags": []
          },
          "execution_count": 1852
        }
      ]
    },
    {
      "cell_type": "markdown",
      "metadata": {
        "id": "D5ESBoF9vX_b",
        "colab_type": "text"
      },
      "source": [
        "## TOP 10"
      ]
    },
    {
      "cell_type": "code",
      "metadata": {
        "id": "AOXw3Ubkvk8f",
        "colab_type": "code",
        "colab": {}
      },
      "source": [
        "k = 10\n",
        "ranking_docs1 = top_docs(\"escola\", k)\n",
        "ranking_docs2 = top_docs(\"bolsonaro\", k)\n",
        "ranking_docs3 = top_docs(\"lula\", k)\n",
        "ranking_docs4 = top_docs(\"universidades\", k)\n",
        "ranking_docs5 = top_docs(\"infantil\", k)"
      ],
      "execution_count": 0,
      "outputs": []
    },
    {
      "cell_type": "code",
      "metadata": {
        "id": "rAPg5wSrvoo3",
        "colab_type": "code",
        "colab": {}
      },
      "source": [
        "table_top1 = dices_coef(\"escola\", ranking_docs1)\n",
        "table_top2 = dices_coef(\"bolsonaro\", ranking_docs2)\n",
        "table_top3 = dices_coef(\"lula\", ranking_docs3)\n",
        "table_top4 = dices_coef(\"universidades\", ranking_docs4)\n",
        "table_top5 = dices_coef(\"infantil\", ranking_docs5)"
      ],
      "execution_count": 0,
      "outputs": []
    },
    {
      "cell_type": "code",
      "metadata": {
        "id": "N67aR8qUvuad",
        "colab_type": "code",
        "colab": {
          "base_uri": "https://localhost:8080/",
          "height": 359
        },
        "outputId": "1e9b861e-977a-4702-cc7a-f0c50b88fcf0"
      },
      "source": [
        "table_dice = pd.DataFrame()\n",
        "\n",
        "table_dice['Dice Antes'] = table1['DICE']\n",
        "table_dice['Dice Depois'] = table_top1\n",
        "\n",
        "table_dice"
      ],
      "execution_count": 1855,
      "outputs": [
        {
          "output_type": "execute_result",
          "data": {
            "text/html": [
              "<div>\n",
              "<style scoped>\n",
              "    .dataframe tbody tr th:only-of-type {\n",
              "        vertical-align: middle;\n",
              "    }\n",
              "\n",
              "    .dataframe tbody tr th {\n",
              "        vertical-align: top;\n",
              "    }\n",
              "\n",
              "    .dataframe thead th {\n",
              "        text-align: right;\n",
              "    }\n",
              "</style>\n",
              "<table border=\"1\" class=\"dataframe\">\n",
              "  <thead>\n",
              "    <tr style=\"text-align: right;\">\n",
              "      <th></th>\n",
              "      <th>Dice Antes</th>\n",
              "      <th>Dice Depois</th>\n",
              "    </tr>\n",
              "  </thead>\n",
              "  <tbody>\n",
              "    <tr>\n",
              "      <th>0</th>\n",
              "      <td>querem</td>\n",
              "      <td>sobre</td>\n",
              "    </tr>\n",
              "    <tr>\n",
              "      <th>1</th>\n",
              "      <td>universidade</td>\n",
              "      <td>ser</td>\n",
              "    </tr>\n",
              "    <tr>\n",
              "      <th>2</th>\n",
              "      <td>jovens</td>\n",
              "      <td>anos</td>\n",
              "    </tr>\n",
              "    <tr>\n",
              "      <th>3</th>\n",
              "      <td>professor</td>\n",
              "      <td>ter</td>\n",
              "    </tr>\n",
              "    <tr>\n",
              "      <th>4</th>\n",
              "      <td>criar</td>\n",
              "      <td>segundo</td>\n",
              "    </tr>\n",
              "    <tr>\n",
              "      <th>5</th>\n",
              "      <td>educação</td>\n",
              "      <td>pessoas</td>\n",
              "    </tr>\n",
              "    <tr>\n",
              "      <th>6</th>\n",
              "      <td>jovem</td>\n",
              "      <td>onde</td>\n",
              "    </tr>\n",
              "    <tr>\n",
              "      <th>7</th>\n",
              "      <td>discurso</td>\n",
              "      <td>maior</td>\n",
              "    </tr>\n",
              "    <tr>\n",
              "      <th>8</th>\n",
              "      <td>qualidade</td>\n",
              "      <td>tudo</td>\n",
              "    </tr>\n",
              "    <tr>\n",
              "      <th>9</th>\n",
              "      <td>superior</td>\n",
              "      <td>presidente</td>\n",
              "    </tr>\n",
              "  </tbody>\n",
              "</table>\n",
              "</div>"
            ],
            "text/plain": [
              "     Dice Antes Dice Depois\n",
              "0        querem       sobre\n",
              "1  universidade         ser\n",
              "2        jovens        anos\n",
              "3     professor         ter\n",
              "4         criar     segundo\n",
              "5      educação     pessoas\n",
              "6         jovem        onde\n",
              "7      discurso       maior\n",
              "8     qualidade        tudo\n",
              "9      superior  presidente"
            ]
          },
          "metadata": {
            "tags": []
          },
          "execution_count": 1855
        }
      ]
    },
    {
      "cell_type": "code",
      "metadata": {
        "id": "6RGHqF1VvvWQ",
        "colab_type": "code",
        "colab": {
          "base_uri": "https://localhost:8080/",
          "height": 359
        },
        "outputId": "c8b99f5e-5ae5-4c3e-c131-f6fb9b0db1ce"
      },
      "source": [
        "table_dice2 = pd.DataFrame()\n",
        "\n",
        "table_dice2['Dice Antes'] = table2['DICE']\n",
        "table_dice2['Dice Depois'] = table_top2\n",
        "\n",
        "table_dice2"
      ],
      "execution_count": 1856,
      "outputs": [
        {
          "output_type": "execute_result",
          "data": {
            "text/html": [
              "<div>\n",
              "<style scoped>\n",
              "    .dataframe tbody tr th:only-of-type {\n",
              "        vertical-align: middle;\n",
              "    }\n",
              "\n",
              "    .dataframe tbody tr th {\n",
              "        vertical-align: top;\n",
              "    }\n",
              "\n",
              "    .dataframe thead th {\n",
              "        text-align: right;\n",
              "    }\n",
              "</style>\n",
              "<table border=\"1\" class=\"dataframe\">\n",
              "  <thead>\n",
              "    <tr style=\"text-align: right;\">\n",
              "      <th></th>\n",
              "      <th>Dice Antes</th>\n",
              "      <th>Dice Depois</th>\n",
              "    </tr>\n",
              "  </thead>\n",
              "  <tbody>\n",
              "    <tr>\n",
              "      <th>0</th>\n",
              "      <td>presidente</td>\n",
              "      <td>presidente</td>\n",
              "    </tr>\n",
              "    <tr>\n",
              "      <th>1</th>\n",
              "      <td>brasil</td>\n",
              "      <td>fazer</td>\n",
              "    </tr>\n",
              "    <tr>\n",
              "      <th>2</th>\n",
              "      <td>governo</td>\n",
              "      <td>sobre</td>\n",
              "    </tr>\n",
              "    <tr>\n",
              "      <th>3</th>\n",
              "      <td>brasileiro</td>\n",
              "      <td>ser</td>\n",
              "    </tr>\n",
              "    <tr>\n",
              "      <th>4</th>\n",
              "      <td>ministro</td>\n",
              "      <td>dois</td>\n",
              "    </tr>\n",
              "    <tr>\n",
              "      <th>5</th>\n",
              "      <td>político</td>\n",
              "      <td>país</td>\n",
              "    </tr>\n",
              "    <tr>\n",
              "      <th>6</th>\n",
              "      <td>brasileira</td>\n",
              "      <td>outros</td>\n",
              "    </tr>\n",
              "    <tr>\n",
              "      <th>7</th>\n",
              "      <td>ainda</td>\n",
              "      <td>maior</td>\n",
              "    </tr>\n",
              "    <tr>\n",
              "      <th>8</th>\n",
              "      <td>paulo</td>\n",
              "      <td>disse</td>\n",
              "    </tr>\n",
              "    <tr>\n",
              "      <th>9</th>\n",
              "      <td>federal</td>\n",
              "      <td>dia</td>\n",
              "    </tr>\n",
              "  </tbody>\n",
              "</table>\n",
              "</div>"
            ],
            "text/plain": [
              "   Dice Antes Dice Depois\n",
              "0  presidente  presidente\n",
              "1      brasil       fazer\n",
              "2     governo       sobre\n",
              "3  brasileiro         ser\n",
              "4    ministro        dois\n",
              "5    político        país\n",
              "6  brasileira      outros\n",
              "7       ainda       maior\n",
              "8       paulo       disse\n",
              "9     federal         dia"
            ]
          },
          "metadata": {
            "tags": []
          },
          "execution_count": 1856
        }
      ]
    },
    {
      "cell_type": "code",
      "metadata": {
        "id": "0j6FoHwMvz4J",
        "colab_type": "code",
        "colab": {
          "base_uri": "https://localhost:8080/",
          "height": 359
        },
        "outputId": "b07073c3-ca5e-4db0-cdfc-e46257a0f622"
      },
      "source": [
        "table_dice3 = pd.DataFrame()\n",
        "\n",
        "table_dice3['Dice Antes'] = table3['DICE']\n",
        "table_dice3['Dice Depois'] = table_top3\n",
        "\n",
        "table_dice3"
      ],
      "execution_count": 1857,
      "outputs": [
        {
          "output_type": "execute_result",
          "data": {
            "text/html": [
              "<div>\n",
              "<style scoped>\n",
              "    .dataframe tbody tr th:only-of-type {\n",
              "        vertical-align: middle;\n",
              "    }\n",
              "\n",
              "    .dataframe tbody tr th {\n",
              "        vertical-align: top;\n",
              "    }\n",
              "\n",
              "    .dataframe thead th {\n",
              "        text-align: right;\n",
              "    }\n",
              "</style>\n",
              "<table border=\"1\" class=\"dataframe\">\n",
              "  <thead>\n",
              "    <tr style=\"text-align: right;\">\n",
              "      <th></th>\n",
              "      <th>Dice Antes</th>\n",
              "      <th>Dice Depois</th>\n",
              "    </tr>\n",
              "  </thead>\n",
              "  <tbody>\n",
              "    <tr>\n",
              "      <th>0</th>\n",
              "      <td>inácio</td>\n",
              "      <td>ser</td>\n",
              "    </tr>\n",
              "    <tr>\n",
              "      <th>1</th>\n",
              "      <td>silva</td>\n",
              "      <td>presidente</td>\n",
              "    </tr>\n",
              "    <tr>\n",
              "      <th>2</th>\n",
              "      <td>michel</td>\n",
              "      <td>bolsonaro</td>\n",
              "    </tr>\n",
              "    <tr>\n",
              "      <th>3</th>\n",
              "      <td>entregar</td>\n",
              "      <td>pode</td>\n",
              "    </tr>\n",
              "    <tr>\n",
              "      <th>4</th>\n",
              "      <td>prisão</td>\n",
              "      <td>outros</td>\n",
              "    </tr>\n",
              "    <tr>\n",
              "      <th>5</th>\n",
              "      <td>recado</td>\n",
              "      <td>ainda</td>\n",
              "    </tr>\n",
              "    <tr>\n",
              "      <th>6</th>\n",
              "      <td>temer</td>\n",
              "      <td>todos</td>\n",
              "    </tr>\n",
              "    <tr>\n",
              "      <th>7</th>\n",
              "      <td>psol</td>\n",
              "      <td>ter</td>\n",
              "    </tr>\n",
              "    <tr>\n",
              "      <th>8</th>\n",
              "      <td>negativa</td>\n",
              "      <td>político</td>\n",
              "    </tr>\n",
              "    <tr>\n",
              "      <th>9</th>\n",
              "      <td>lava</td>\n",
              "      <td>política</td>\n",
              "    </tr>\n",
              "  </tbody>\n",
              "</table>\n",
              "</div>"
            ],
            "text/plain": [
              "  Dice Antes Dice Depois\n",
              "0     inácio         ser\n",
              "1      silva  presidente\n",
              "2     michel   bolsonaro\n",
              "3   entregar        pode\n",
              "4     prisão      outros\n",
              "5     recado       ainda\n",
              "6      temer       todos\n",
              "7       psol         ter\n",
              "8   negativa    político\n",
              "9       lava    política"
            ]
          },
          "metadata": {
            "tags": []
          },
          "execution_count": 1857
        }
      ]
    },
    {
      "cell_type": "code",
      "metadata": {
        "id": "RRANkQouv19w",
        "colab_type": "code",
        "colab": {
          "base_uri": "https://localhost:8080/",
          "height": 359
        },
        "outputId": "0133121d-4715-4b85-cf1d-7caf427831f7"
      },
      "source": [
        "table_dice4 = pd.DataFrame()\n",
        "\n",
        "table_dice4['Dice Antes'] = table4['DICE']\n",
        "table_dice4['Dice Depois'] = table_top4\n",
        "\n",
        "table_dice4"
      ],
      "execution_count": 1858,
      "outputs": [
        {
          "output_type": "execute_result",
          "data": {
            "text/html": [
              "<div>\n",
              "<style scoped>\n",
              "    .dataframe tbody tr th:only-of-type {\n",
              "        vertical-align: middle;\n",
              "    }\n",
              "\n",
              "    .dataframe tbody tr th {\n",
              "        vertical-align: top;\n",
              "    }\n",
              "\n",
              "    .dataframe thead th {\n",
              "        text-align: right;\n",
              "    }\n",
              "</style>\n",
              "<table border=\"1\" class=\"dataframe\">\n",
              "  <thead>\n",
              "    <tr style=\"text-align: right;\">\n",
              "      <th></th>\n",
              "      <th>Dice Antes</th>\n",
              "      <th>Dice Depois</th>\n",
              "    </tr>\n",
              "  </thead>\n",
              "  <tbody>\n",
              "    <tr>\n",
              "      <th>0</th>\n",
              "      <td>desastre</td>\n",
              "      <td>ter</td>\n",
              "    </tr>\n",
              "    <tr>\n",
              "      <th>1</th>\n",
              "      <td>harvard</td>\n",
              "      <td>ser</td>\n",
              "    </tr>\n",
              "    <tr>\n",
              "      <th>2</th>\n",
              "      <td>aulas</td>\n",
              "      <td>sobre</td>\n",
              "    </tr>\n",
              "    <tr>\n",
              "      <th>3</th>\n",
              "      <td>concentrar</td>\n",
              "      <td>outro</td>\n",
              "    </tr>\n",
              "    <tr>\n",
              "      <th>4</th>\n",
              "      <td>estudantes</td>\n",
              "      <td>mundo</td>\n",
              "    </tr>\n",
              "    <tr>\n",
              "      <th>5</th>\n",
              "      <td>ocorre</td>\n",
              "      <td>muitos</td>\n",
              "    </tr>\n",
              "    <tr>\n",
              "      <th>6</th>\n",
              "      <td>yale</td>\n",
              "      <td>desde</td>\n",
              "    </tr>\n",
              "    <tr>\n",
              "      <th>7</th>\n",
              "      <td>robert</td>\n",
              "      <td>brasil</td>\n",
              "    </tr>\n",
              "    <tr>\n",
              "      <th>8</th>\n",
              "      <td>financiamento</td>\n",
              "      <td>vez</td>\n",
              "    </tr>\n",
              "    <tr>\n",
              "      <th>9</th>\n",
              "      <td>precisa</td>\n",
              "      <td>presidente</td>\n",
              "    </tr>\n",
              "  </tbody>\n",
              "</table>\n",
              "</div>"
            ],
            "text/plain": [
              "      Dice Antes Dice Depois\n",
              "0       desastre         ter\n",
              "1        harvard         ser\n",
              "2          aulas       sobre\n",
              "3     concentrar       outro\n",
              "4     estudantes       mundo\n",
              "5         ocorre      muitos\n",
              "6           yale       desde\n",
              "7         robert      brasil\n",
              "8  financiamento         vez\n",
              "9        precisa  presidente"
            ]
          },
          "metadata": {
            "tags": []
          },
          "execution_count": 1858
        }
      ]
    },
    {
      "cell_type": "code",
      "metadata": {
        "id": "nEB_L96Kv4LL",
        "colab_type": "code",
        "colab": {
          "base_uri": "https://localhost:8080/",
          "height": 359
        },
        "outputId": "338480a8-b328-4879-fdad-007e8cba7ecc"
      },
      "source": [
        "table_dice5 = pd.DataFrame()\n",
        "\n",
        "table_dice5['Dice Antes'] = table5['DICE']\n",
        "table_dice5['Dice Depois'] = table_top5\n",
        "\n",
        "table_dice5"
      ],
      "execution_count": 1859,
      "outputs": [
        {
          "output_type": "execute_result",
          "data": {
            "text/html": [
              "<div>\n",
              "<style scoped>\n",
              "    .dataframe tbody tr th:only-of-type {\n",
              "        vertical-align: middle;\n",
              "    }\n",
              "\n",
              "    .dataframe tbody tr th {\n",
              "        vertical-align: top;\n",
              "    }\n",
              "\n",
              "    .dataframe thead th {\n",
              "        text-align: right;\n",
              "    }\n",
              "</style>\n",
              "<table border=\"1\" class=\"dataframe\">\n",
              "  <thead>\n",
              "    <tr style=\"text-align: right;\">\n",
              "      <th></th>\n",
              "      <th>Dice Antes</th>\n",
              "      <th>Dice Depois</th>\n",
              "    </tr>\n",
              "  </thead>\n",
              "  <tbody>\n",
              "    <tr>\n",
              "      <th>0</th>\n",
              "      <td>sexual</td>\n",
              "      <td>anos</td>\n",
              "    </tr>\n",
              "    <tr>\n",
              "      <th>1</th>\n",
              "      <td>keaton</td>\n",
              "      <td>ainda</td>\n",
              "    </tr>\n",
              "    <tr>\n",
              "      <th>2</th>\n",
              "      <td>eva</td>\n",
              "      <td>ser</td>\n",
              "    </tr>\n",
              "    <tr>\n",
              "      <th>3</th>\n",
              "      <td>danny</td>\n",
              "      <td>crianças</td>\n",
              "    </tr>\n",
              "    <tr>\n",
              "      <th>4</th>\n",
              "      <td>burton</td>\n",
              "      <td>tempo</td>\n",
              "    </tr>\n",
              "    <tr>\n",
              "      <th>5</th>\n",
              "      <td>tim</td>\n",
              "      <td>sobre</td>\n",
              "    </tr>\n",
              "    <tr>\n",
              "      <th>6</th>\n",
              "      <td>elefante</td>\n",
              "      <td>segundo</td>\n",
              "    </tr>\n",
              "    <tr>\n",
              "      <th>7</th>\n",
              "      <td>michael</td>\n",
              "      <td>relação</td>\n",
              "    </tr>\n",
              "    <tr>\n",
              "      <th>8</th>\n",
              "      <td>james</td>\n",
              "      <td>parte</td>\n",
              "    </tr>\n",
              "    <tr>\n",
              "      <th>9</th>\n",
              "      <td>infância</td>\n",
              "      <td>forma</td>\n",
              "    </tr>\n",
              "  </tbody>\n",
              "</table>\n",
              "</div>"
            ],
            "text/plain": [
              "  Dice Antes Dice Depois\n",
              "0     sexual        anos\n",
              "1     keaton       ainda\n",
              "2        eva         ser\n",
              "3      danny    crianças\n",
              "4     burton       tempo\n",
              "5        tim       sobre\n",
              "6   elefante     segundo\n",
              "7    michael     relação\n",
              "8      james       parte\n",
              "9   infância       forma"
            ]
          },
          "metadata": {
            "tags": []
          },
          "execution_count": 1859
        }
      ]
    },
    {
      "cell_type": "markdown",
      "metadata": {
        "id": "T5ZLTuGRvX2z",
        "colab_type": "text"
      },
      "source": [
        "## Discussão\n",
        "\n",
        "É perceptível que no top-3 algumas consultas acabam perdendo o sentido exibindo palavras que não possuem um significado forte para o contexto, diminuindo assim a qualidade dos resultados. Já para os top-5 e top-10 os resultados,são mais condizentes com o contexto uma vez que utilizam de  documentos que realmente descrevem o contexto da palavra consultada."
      ]
    }
  ]
}